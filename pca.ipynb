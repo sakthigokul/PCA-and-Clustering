{
 "cells": [
  {
   "cell_type": "code",
   "execution_count": 2,
   "metadata": {},
   "outputs": [],
   "source": [
    "import pandas as pd \n",
    "import numpy as np\n",
    "from sklearn.decomposition import PCA\n",
    "import matplotlib.pyplot as plt\n",
    "from sklearn.preprocessing import scale\n",
    "import scipy.cluster.hierarchy as sch\n",
    "from sklearn.cluster import AgglomerativeClustering\n",
    "from sklearn.cluster import KMeans\n",
    "import seaborn as sn"
   ]
  },
  {
   "cell_type": "code",
   "execution_count": 3,
   "metadata": {},
   "outputs": [
    {
     "data": {
      "text/html": [
       "<div>\n",
       "<style scoped>\n",
       "    .dataframe tbody tr th:only-of-type {\n",
       "        vertical-align: middle;\n",
       "    }\n",
       "\n",
       "    .dataframe tbody tr th {\n",
       "        vertical-align: top;\n",
       "    }\n",
       "\n",
       "    .dataframe thead th {\n",
       "        text-align: right;\n",
       "    }\n",
       "</style>\n",
       "<table border=\"1\" class=\"dataframe\">\n",
       "  <thead>\n",
       "    <tr style=\"text-align: right;\">\n",
       "      <th></th>\n",
       "      <th>Type</th>\n",
       "      <th>Alcohol</th>\n",
       "      <th>Malic</th>\n",
       "      <th>Ash</th>\n",
       "      <th>Alcalinity</th>\n",
       "      <th>Magnesium</th>\n",
       "      <th>Phenols</th>\n",
       "      <th>Flavanoids</th>\n",
       "      <th>Nonflavanoids</th>\n",
       "      <th>Proanthocyanins</th>\n",
       "      <th>Color</th>\n",
       "      <th>Hue</th>\n",
       "      <th>Dilution</th>\n",
       "      <th>Proline</th>\n",
       "    </tr>\n",
       "  </thead>\n",
       "  <tbody>\n",
       "    <tr>\n",
       "      <th>0</th>\n",
       "      <td>1</td>\n",
       "      <td>14.23</td>\n",
       "      <td>1.71</td>\n",
       "      <td>2.43</td>\n",
       "      <td>15.6</td>\n",
       "      <td>127</td>\n",
       "      <td>2.80</td>\n",
       "      <td>3.06</td>\n",
       "      <td>0.28</td>\n",
       "      <td>2.29</td>\n",
       "      <td>5.64</td>\n",
       "      <td>1.04</td>\n",
       "      <td>3.92</td>\n",
       "      <td>1065</td>\n",
       "    </tr>\n",
       "    <tr>\n",
       "      <th>1</th>\n",
       "      <td>1</td>\n",
       "      <td>13.20</td>\n",
       "      <td>1.78</td>\n",
       "      <td>2.14</td>\n",
       "      <td>11.2</td>\n",
       "      <td>100</td>\n",
       "      <td>2.65</td>\n",
       "      <td>2.76</td>\n",
       "      <td>0.26</td>\n",
       "      <td>1.28</td>\n",
       "      <td>4.38</td>\n",
       "      <td>1.05</td>\n",
       "      <td>3.40</td>\n",
       "      <td>1050</td>\n",
       "    </tr>\n",
       "    <tr>\n",
       "      <th>2</th>\n",
       "      <td>1</td>\n",
       "      <td>13.16</td>\n",
       "      <td>2.36</td>\n",
       "      <td>2.67</td>\n",
       "      <td>18.6</td>\n",
       "      <td>101</td>\n",
       "      <td>2.80</td>\n",
       "      <td>3.24</td>\n",
       "      <td>0.30</td>\n",
       "      <td>2.81</td>\n",
       "      <td>5.68</td>\n",
       "      <td>1.03</td>\n",
       "      <td>3.17</td>\n",
       "      <td>1185</td>\n",
       "    </tr>\n",
       "    <tr>\n",
       "      <th>3</th>\n",
       "      <td>1</td>\n",
       "      <td>14.37</td>\n",
       "      <td>1.95</td>\n",
       "      <td>2.50</td>\n",
       "      <td>16.8</td>\n",
       "      <td>113</td>\n",
       "      <td>3.85</td>\n",
       "      <td>3.49</td>\n",
       "      <td>0.24</td>\n",
       "      <td>2.18</td>\n",
       "      <td>7.80</td>\n",
       "      <td>0.86</td>\n",
       "      <td>3.45</td>\n",
       "      <td>1480</td>\n",
       "    </tr>\n",
       "    <tr>\n",
       "      <th>4</th>\n",
       "      <td>1</td>\n",
       "      <td>13.24</td>\n",
       "      <td>2.59</td>\n",
       "      <td>2.87</td>\n",
       "      <td>21.0</td>\n",
       "      <td>118</td>\n",
       "      <td>2.80</td>\n",
       "      <td>2.69</td>\n",
       "      <td>0.39</td>\n",
       "      <td>1.82</td>\n",
       "      <td>4.32</td>\n",
       "      <td>1.04</td>\n",
       "      <td>2.93</td>\n",
       "      <td>735</td>\n",
       "    </tr>\n",
       "  </tbody>\n",
       "</table>\n",
       "</div>"
      ],
      "text/plain": [
       "   Type  Alcohol  Malic   Ash  Alcalinity  Magnesium  Phenols  Flavanoids  \\\n",
       "0     1    14.23   1.71  2.43        15.6        127     2.80        3.06   \n",
       "1     1    13.20   1.78  2.14        11.2        100     2.65        2.76   \n",
       "2     1    13.16   2.36  2.67        18.6        101     2.80        3.24   \n",
       "3     1    14.37   1.95  2.50        16.8        113     3.85        3.49   \n",
       "4     1    13.24   2.59  2.87        21.0        118     2.80        2.69   \n",
       "\n",
       "   Nonflavanoids  Proanthocyanins  Color   Hue  Dilution  Proline  \n",
       "0           0.28             2.29   5.64  1.04      3.92     1065  \n",
       "1           0.26             1.28   4.38  1.05      3.40     1050  \n",
       "2           0.30             2.81   5.68  1.03      3.17     1185  \n",
       "3           0.24             2.18   7.80  0.86      3.45     1480  \n",
       "4           0.39             1.82   4.32  1.04      2.93      735  "
      ]
     },
     "execution_count": 3,
     "metadata": {},
     "output_type": "execute_result"
    }
   ],
   "source": [
    "wine = pd.read_csv(\"wine.csv\")\n",
    "wine.head()"
   ]
  },
  {
   "cell_type": "code",
   "execution_count": 4,
   "metadata": {},
   "outputs": [
    {
     "data": {
      "text/html": [
       "<div>\n",
       "<style scoped>\n",
       "    .dataframe tbody tr th:only-of-type {\n",
       "        vertical-align: middle;\n",
       "    }\n",
       "\n",
       "    .dataframe tbody tr th {\n",
       "        vertical-align: top;\n",
       "    }\n",
       "\n",
       "    .dataframe thead th {\n",
       "        text-align: right;\n",
       "    }\n",
       "</style>\n",
       "<table border=\"1\" class=\"dataframe\">\n",
       "  <thead>\n",
       "    <tr style=\"text-align: right;\">\n",
       "      <th></th>\n",
       "      <th>Type</th>\n",
       "      <th>Alcohol</th>\n",
       "      <th>Malic</th>\n",
       "      <th>Ash</th>\n",
       "      <th>Alcalinity</th>\n",
       "      <th>Magnesium</th>\n",
       "      <th>Phenols</th>\n",
       "      <th>Flavanoids</th>\n",
       "      <th>Nonflavanoids</th>\n",
       "      <th>Proanthocyanins</th>\n",
       "      <th>Color</th>\n",
       "      <th>Hue</th>\n",
       "      <th>Dilution</th>\n",
       "      <th>Proline</th>\n",
       "    </tr>\n",
       "  </thead>\n",
       "  <tbody>\n",
       "    <tr>\n",
       "      <th>count</th>\n",
       "      <td>178.000000</td>\n",
       "      <td>178.000000</td>\n",
       "      <td>178.000000</td>\n",
       "      <td>178.000000</td>\n",
       "      <td>178.000000</td>\n",
       "      <td>178.000000</td>\n",
       "      <td>178.000000</td>\n",
       "      <td>178.000000</td>\n",
       "      <td>178.000000</td>\n",
       "      <td>178.000000</td>\n",
       "      <td>178.000000</td>\n",
       "      <td>178.000000</td>\n",
       "      <td>178.000000</td>\n",
       "      <td>178.000000</td>\n",
       "    </tr>\n",
       "    <tr>\n",
       "      <th>mean</th>\n",
       "      <td>1.938202</td>\n",
       "      <td>13.000618</td>\n",
       "      <td>2.336348</td>\n",
       "      <td>2.366517</td>\n",
       "      <td>19.494944</td>\n",
       "      <td>99.741573</td>\n",
       "      <td>2.295112</td>\n",
       "      <td>2.029270</td>\n",
       "      <td>0.361854</td>\n",
       "      <td>1.590899</td>\n",
       "      <td>5.058090</td>\n",
       "      <td>0.957449</td>\n",
       "      <td>2.611685</td>\n",
       "      <td>746.893258</td>\n",
       "    </tr>\n",
       "    <tr>\n",
       "      <th>std</th>\n",
       "      <td>0.775035</td>\n",
       "      <td>0.811827</td>\n",
       "      <td>1.117146</td>\n",
       "      <td>0.274344</td>\n",
       "      <td>3.339564</td>\n",
       "      <td>14.282484</td>\n",
       "      <td>0.625851</td>\n",
       "      <td>0.998859</td>\n",
       "      <td>0.124453</td>\n",
       "      <td>0.572359</td>\n",
       "      <td>2.318286</td>\n",
       "      <td>0.228572</td>\n",
       "      <td>0.709990</td>\n",
       "      <td>314.907474</td>\n",
       "    </tr>\n",
       "    <tr>\n",
       "      <th>min</th>\n",
       "      <td>1.000000</td>\n",
       "      <td>11.030000</td>\n",
       "      <td>0.740000</td>\n",
       "      <td>1.360000</td>\n",
       "      <td>10.600000</td>\n",
       "      <td>70.000000</td>\n",
       "      <td>0.980000</td>\n",
       "      <td>0.340000</td>\n",
       "      <td>0.130000</td>\n",
       "      <td>0.410000</td>\n",
       "      <td>1.280000</td>\n",
       "      <td>0.480000</td>\n",
       "      <td>1.270000</td>\n",
       "      <td>278.000000</td>\n",
       "    </tr>\n",
       "    <tr>\n",
       "      <th>25%</th>\n",
       "      <td>1.000000</td>\n",
       "      <td>12.362500</td>\n",
       "      <td>1.602500</td>\n",
       "      <td>2.210000</td>\n",
       "      <td>17.200000</td>\n",
       "      <td>88.000000</td>\n",
       "      <td>1.742500</td>\n",
       "      <td>1.205000</td>\n",
       "      <td>0.270000</td>\n",
       "      <td>1.250000</td>\n",
       "      <td>3.220000</td>\n",
       "      <td>0.782500</td>\n",
       "      <td>1.937500</td>\n",
       "      <td>500.500000</td>\n",
       "    </tr>\n",
       "    <tr>\n",
       "      <th>50%</th>\n",
       "      <td>2.000000</td>\n",
       "      <td>13.050000</td>\n",
       "      <td>1.865000</td>\n",
       "      <td>2.360000</td>\n",
       "      <td>19.500000</td>\n",
       "      <td>98.000000</td>\n",
       "      <td>2.355000</td>\n",
       "      <td>2.135000</td>\n",
       "      <td>0.340000</td>\n",
       "      <td>1.555000</td>\n",
       "      <td>4.690000</td>\n",
       "      <td>0.965000</td>\n",
       "      <td>2.780000</td>\n",
       "      <td>673.500000</td>\n",
       "    </tr>\n",
       "    <tr>\n",
       "      <th>75%</th>\n",
       "      <td>3.000000</td>\n",
       "      <td>13.677500</td>\n",
       "      <td>3.082500</td>\n",
       "      <td>2.557500</td>\n",
       "      <td>21.500000</td>\n",
       "      <td>107.000000</td>\n",
       "      <td>2.800000</td>\n",
       "      <td>2.875000</td>\n",
       "      <td>0.437500</td>\n",
       "      <td>1.950000</td>\n",
       "      <td>6.200000</td>\n",
       "      <td>1.120000</td>\n",
       "      <td>3.170000</td>\n",
       "      <td>985.000000</td>\n",
       "    </tr>\n",
       "    <tr>\n",
       "      <th>max</th>\n",
       "      <td>3.000000</td>\n",
       "      <td>14.830000</td>\n",
       "      <td>5.800000</td>\n",
       "      <td>3.230000</td>\n",
       "      <td>30.000000</td>\n",
       "      <td>162.000000</td>\n",
       "      <td>3.880000</td>\n",
       "      <td>5.080000</td>\n",
       "      <td>0.660000</td>\n",
       "      <td>3.580000</td>\n",
       "      <td>13.000000</td>\n",
       "      <td>1.710000</td>\n",
       "      <td>4.000000</td>\n",
       "      <td>1680.000000</td>\n",
       "    </tr>\n",
       "  </tbody>\n",
       "</table>\n",
       "</div>"
      ],
      "text/plain": [
       "             Type     Alcohol       Malic         Ash  Alcalinity   Magnesium  \\\n",
       "count  178.000000  178.000000  178.000000  178.000000  178.000000  178.000000   \n",
       "mean     1.938202   13.000618    2.336348    2.366517   19.494944   99.741573   \n",
       "std      0.775035    0.811827    1.117146    0.274344    3.339564   14.282484   \n",
       "min      1.000000   11.030000    0.740000    1.360000   10.600000   70.000000   \n",
       "25%      1.000000   12.362500    1.602500    2.210000   17.200000   88.000000   \n",
       "50%      2.000000   13.050000    1.865000    2.360000   19.500000   98.000000   \n",
       "75%      3.000000   13.677500    3.082500    2.557500   21.500000  107.000000   \n",
       "max      3.000000   14.830000    5.800000    3.230000   30.000000  162.000000   \n",
       "\n",
       "          Phenols  Flavanoids  Nonflavanoids  Proanthocyanins       Color  \\\n",
       "count  178.000000  178.000000     178.000000       178.000000  178.000000   \n",
       "mean     2.295112    2.029270       0.361854         1.590899    5.058090   \n",
       "std      0.625851    0.998859       0.124453         0.572359    2.318286   \n",
       "min      0.980000    0.340000       0.130000         0.410000    1.280000   \n",
       "25%      1.742500    1.205000       0.270000         1.250000    3.220000   \n",
       "50%      2.355000    2.135000       0.340000         1.555000    4.690000   \n",
       "75%      2.800000    2.875000       0.437500         1.950000    6.200000   \n",
       "max      3.880000    5.080000       0.660000         3.580000   13.000000   \n",
       "\n",
       "              Hue    Dilution      Proline  \n",
       "count  178.000000  178.000000   178.000000  \n",
       "mean     0.957449    2.611685   746.893258  \n",
       "std      0.228572    0.709990   314.907474  \n",
       "min      0.480000    1.270000   278.000000  \n",
       "25%      0.782500    1.937500   500.500000  \n",
       "50%      0.965000    2.780000   673.500000  \n",
       "75%      1.120000    3.170000   985.000000  \n",
       "max      1.710000    4.000000  1680.000000  "
      ]
     },
     "execution_count": 4,
     "metadata": {},
     "output_type": "execute_result"
    }
   ],
   "source": [
    "wine.describe()"
   ]
  },
  {
   "cell_type": "code",
   "execution_count": 5,
   "metadata": {},
   "outputs": [
    {
     "name": "stderr",
     "output_type": "stream",
     "text": [
      "<ipython-input-5-f424d256a9e4>:1: UserWarning: Pandas doesn't allow columns to be created via a new attribute name - see https://pandas.pydata.org/pandas-docs/stable/indexing.html#attribute-access\n",
      "  wine.data = wine.iloc[:,1:]\n"
     ]
    },
    {
     "data": {
      "text/html": [
       "<div>\n",
       "<style scoped>\n",
       "    .dataframe tbody tr th:only-of-type {\n",
       "        vertical-align: middle;\n",
       "    }\n",
       "\n",
       "    .dataframe tbody tr th {\n",
       "        vertical-align: top;\n",
       "    }\n",
       "\n",
       "    .dataframe thead th {\n",
       "        text-align: right;\n",
       "    }\n",
       "</style>\n",
       "<table border=\"1\" class=\"dataframe\">\n",
       "  <thead>\n",
       "    <tr style=\"text-align: right;\">\n",
       "      <th></th>\n",
       "      <th>Alcohol</th>\n",
       "      <th>Malic</th>\n",
       "      <th>Ash</th>\n",
       "      <th>Alcalinity</th>\n",
       "      <th>Magnesium</th>\n",
       "      <th>Phenols</th>\n",
       "      <th>Flavanoids</th>\n",
       "      <th>Nonflavanoids</th>\n",
       "      <th>Proanthocyanins</th>\n",
       "      <th>Color</th>\n",
       "      <th>Hue</th>\n",
       "      <th>Dilution</th>\n",
       "      <th>Proline</th>\n",
       "    </tr>\n",
       "  </thead>\n",
       "  <tbody>\n",
       "    <tr>\n",
       "      <th>0</th>\n",
       "      <td>14.23</td>\n",
       "      <td>1.71</td>\n",
       "      <td>2.43</td>\n",
       "      <td>15.6</td>\n",
       "      <td>127</td>\n",
       "      <td>2.80</td>\n",
       "      <td>3.06</td>\n",
       "      <td>0.28</td>\n",
       "      <td>2.29</td>\n",
       "      <td>5.64</td>\n",
       "      <td>1.04</td>\n",
       "      <td>3.92</td>\n",
       "      <td>1065</td>\n",
       "    </tr>\n",
       "    <tr>\n",
       "      <th>1</th>\n",
       "      <td>13.20</td>\n",
       "      <td>1.78</td>\n",
       "      <td>2.14</td>\n",
       "      <td>11.2</td>\n",
       "      <td>100</td>\n",
       "      <td>2.65</td>\n",
       "      <td>2.76</td>\n",
       "      <td>0.26</td>\n",
       "      <td>1.28</td>\n",
       "      <td>4.38</td>\n",
       "      <td>1.05</td>\n",
       "      <td>3.40</td>\n",
       "      <td>1050</td>\n",
       "    </tr>\n",
       "    <tr>\n",
       "      <th>2</th>\n",
       "      <td>13.16</td>\n",
       "      <td>2.36</td>\n",
       "      <td>2.67</td>\n",
       "      <td>18.6</td>\n",
       "      <td>101</td>\n",
       "      <td>2.80</td>\n",
       "      <td>3.24</td>\n",
       "      <td>0.30</td>\n",
       "      <td>2.81</td>\n",
       "      <td>5.68</td>\n",
       "      <td>1.03</td>\n",
       "      <td>3.17</td>\n",
       "      <td>1185</td>\n",
       "    </tr>\n",
       "    <tr>\n",
       "      <th>3</th>\n",
       "      <td>14.37</td>\n",
       "      <td>1.95</td>\n",
       "      <td>2.50</td>\n",
       "      <td>16.8</td>\n",
       "      <td>113</td>\n",
       "      <td>3.85</td>\n",
       "      <td>3.49</td>\n",
       "      <td>0.24</td>\n",
       "      <td>2.18</td>\n",
       "      <td>7.80</td>\n",
       "      <td>0.86</td>\n",
       "      <td>3.45</td>\n",
       "      <td>1480</td>\n",
       "    </tr>\n",
       "    <tr>\n",
       "      <th>4</th>\n",
       "      <td>13.24</td>\n",
       "      <td>2.59</td>\n",
       "      <td>2.87</td>\n",
       "      <td>21.0</td>\n",
       "      <td>118</td>\n",
       "      <td>2.80</td>\n",
       "      <td>2.69</td>\n",
       "      <td>0.39</td>\n",
       "      <td>1.82</td>\n",
       "      <td>4.32</td>\n",
       "      <td>1.04</td>\n",
       "      <td>2.93</td>\n",
       "      <td>735</td>\n",
       "    </tr>\n",
       "  </tbody>\n",
       "</table>\n",
       "</div>"
      ],
      "text/plain": [
       "   Alcohol  Malic   Ash  Alcalinity  Magnesium  Phenols  Flavanoids  \\\n",
       "0    14.23   1.71  2.43        15.6        127     2.80        3.06   \n",
       "1    13.20   1.78  2.14        11.2        100     2.65        2.76   \n",
       "2    13.16   2.36  2.67        18.6        101     2.80        3.24   \n",
       "3    14.37   1.95  2.50        16.8        113     3.85        3.49   \n",
       "4    13.24   2.59  2.87        21.0        118     2.80        2.69   \n",
       "\n",
       "   Nonflavanoids  Proanthocyanins  Color   Hue  Dilution  Proline  \n",
       "0           0.28             2.29   5.64  1.04      3.92     1065  \n",
       "1           0.26             1.28   4.38  1.05      3.40     1050  \n",
       "2           0.30             2.81   5.68  1.03      3.17     1185  \n",
       "3           0.24             2.18   7.80  0.86      3.45     1480  \n",
       "4           0.39             1.82   4.32  1.04      2.93      735  "
      ]
     },
     "execution_count": 5,
     "metadata": {},
     "output_type": "execute_result"
    }
   ],
   "source": [
    "wine.data = wine.iloc[:,1:]\n",
    "wine.data.head()"
   ]
  },
  {
   "cell_type": "code",
   "execution_count": 6,
   "metadata": {},
   "outputs": [
    {
     "data": {
      "text/plain": [
       "array([[1.423e+01, 1.710e+00, 2.430e+00, ..., 1.040e+00, 3.920e+00,\n",
       "        1.065e+03],\n",
       "       [1.320e+01, 1.780e+00, 2.140e+00, ..., 1.050e+00, 3.400e+00,\n",
       "        1.050e+03],\n",
       "       [1.316e+01, 2.360e+00, 2.670e+00, ..., 1.030e+00, 3.170e+00,\n",
       "        1.185e+03],\n",
       "       ...,\n",
       "       [1.327e+01, 4.280e+00, 2.260e+00, ..., 5.900e-01, 1.560e+00,\n",
       "        8.350e+02],\n",
       "       [1.317e+01, 2.590e+00, 2.370e+00, ..., 6.000e-01, 1.620e+00,\n",
       "        8.400e+02],\n",
       "       [1.413e+01, 4.100e+00, 2.740e+00, ..., 6.100e-01, 1.600e+00,\n",
       "        5.600e+02]])"
      ]
     },
     "execution_count": 6,
     "metadata": {},
     "output_type": "execute_result"
    }
   ],
   "source": [
    "WINE = wine.data.values\n",
    "WINE"
   ]
  },
  {
   "cell_type": "code",
   "execution_count": 7,
   "metadata": {},
   "outputs": [],
   "source": [
    "wine_normal = scale(WINE)"
   ]
  },
  {
   "cell_type": "code",
   "execution_count": 8,
   "metadata": {},
   "outputs": [
    {
     "data": {
      "text/plain": [
       "array([[ 1.51861254, -0.5622498 ,  0.23205254, ...,  0.36217728,\n",
       "         1.84791957,  1.01300893],\n",
       "       [ 0.24628963, -0.49941338, -0.82799632, ...,  0.40605066,\n",
       "         1.1134493 ,  0.96524152],\n",
       "       [ 0.19687903,  0.02123125,  1.10933436, ...,  0.31830389,\n",
       "         0.78858745,  1.39514818],\n",
       "       ...,\n",
       "       [ 0.33275817,  1.74474449, -0.38935541, ..., -1.61212515,\n",
       "        -1.48544548,  0.28057537],\n",
       "       [ 0.20923168,  0.22769377,  0.01273209, ..., -1.56825176,\n",
       "        -1.40069891,  0.29649784],\n",
       "       [ 1.39508604,  1.58316512,  1.36520822, ..., -1.52437837,\n",
       "        -1.42894777, -0.59516041]])"
      ]
     },
     "execution_count": 8,
     "metadata": {},
     "output_type": "execute_result"
    }
   ],
   "source": [
    "wine_normal"
   ]
  },
  {
   "cell_type": "code",
   "execution_count": 10,
   "metadata": {},
   "outputs": [],
   "source": [
    "pca = PCA()\n",
    "pca_values = pca.fit_transform(wine_normal)"
   ]
  },
  {
   "cell_type": "code",
   "execution_count": 11,
   "metadata": {},
   "outputs": [
    {
     "data": {
      "text/plain": [
       "array([[ 3.31675081e+00, -1.44346263e+00, -1.65739045e-01, ...,\n",
       "        -4.51563395e-01,  5.40810414e-01, -6.62386309e-02],\n",
       "       [ 2.20946492e+00,  3.33392887e-01, -2.02645737e+00, ...,\n",
       "        -1.42657306e-01,  3.88237741e-01,  3.63650247e-03],\n",
       "       [ 2.51674015e+00, -1.03115130e+00,  9.82818670e-01, ...,\n",
       "        -2.86672847e-01,  5.83573183e-04,  2.17165104e-02],\n",
       "       ...,\n",
       "       [-2.67783946e+00, -2.76089913e+00, -9.40941877e-01, ...,\n",
       "         5.12492025e-01,  6.98766451e-01,  7.20776948e-02],\n",
       "       [-2.38701709e+00, -2.29734668e+00, -5.50696197e-01, ...,\n",
       "         2.99821968e-01,  3.39820654e-01, -2.18657605e-02],\n",
       "       [-3.20875816e+00, -2.76891957e+00,  1.01391366e+00, ...,\n",
       "        -2.29964331e-01, -1.88787963e-01, -3.23964720e-01]])"
      ]
     },
     "execution_count": 11,
     "metadata": {},
     "output_type": "execute_result"
    }
   ],
   "source": [
    "pca_values"
   ]
  },
  {
   "cell_type": "code",
   "execution_count": 12,
   "metadata": {},
   "outputs": [],
   "source": [
    "pca = PCA(n_components = 3)\n",
    "pca_values = pca.fit_transform(wine_normal)"
   ]
  },
  {
   "cell_type": "code",
   "execution_count": 13,
   "metadata": {},
   "outputs": [
    {
     "data": {
      "text/plain": [
       "array([0.36198848, 0.1920749 , 0.11123631])"
      ]
     },
     "execution_count": 13,
     "metadata": {},
     "output_type": "execute_result"
    }
   ],
   "source": [
    "var = pca.explained_variance_ratio_\n",
    "var"
   ]
  },
  {
   "cell_type": "markdown",
   "metadata": {},
   "source": [
    "# 1st three PCA components contains 66.53% of information"
   ]
  },
  {
   "cell_type": "code",
   "execution_count": 14,
   "metadata": {},
   "outputs": [
    {
     "data": {
      "text/plain": [
       "array([36.2 , 55.41, 66.53])"
      ]
     },
     "execution_count": 14,
     "metadata": {},
     "output_type": "execute_result"
    }
   ],
   "source": [
    "var1 = np.cumsum(np.round(var,decimals = 4)*100)\n",
    "var1"
   ]
  },
  {
   "cell_type": "code",
   "execution_count": 15,
   "metadata": {},
   "outputs": [
    {
     "data": {
      "text/plain": [
       "array([[ 0.1443294 , -0.24518758, -0.00205106, -0.23932041,  0.14199204,\n",
       "         0.39466085,  0.4229343 , -0.2985331 ,  0.31342949, -0.0886167 ,\n",
       "         0.29671456,  0.37616741,  0.28675223],\n",
       "       [-0.48365155, -0.22493093, -0.31606881,  0.0105905 , -0.299634  ,\n",
       "        -0.06503951,  0.00335981, -0.02877949, -0.03930172, -0.52999567,\n",
       "         0.27923515,  0.16449619, -0.36490283],\n",
       "       [-0.20738262,  0.08901289,  0.6262239 ,  0.61208035,  0.13075693,\n",
       "         0.14617896,  0.1506819 ,  0.17036816,  0.14945431, -0.13730621,\n",
       "         0.08522192,  0.16600459, -0.12674592]])"
      ]
     },
     "execution_count": 15,
     "metadata": {},
     "output_type": "execute_result"
    }
   ],
   "source": [
    "pca.components_"
   ]
  },
  {
   "cell_type": "code",
   "execution_count": 16,
   "metadata": {},
   "outputs": [
    {
     "data": {
      "text/plain": [
       "[<matplotlib.lines.Line2D at 0x175ce730970>]"
      ]
     },
     "execution_count": 16,
     "metadata": {},
     "output_type": "execute_result"
    },
    {
     "data": {
      "image/png": "[encoded data removed]",
      "text/plain": [
       "<Figure size 432x288 with 1 Axes>"
      ]
     },
     "metadata": {
      "needs_background": "light"
     },
     "output_type": "display_data"
    }
   ],
   "source": [
    "plt.plot(var1,color=\"red\")"
   ]
  },
  {
   "cell_type": "code",
   "execution_count": 17,
   "metadata": {},
   "outputs": [
    {
     "data": {
      "text/plain": [
       "array([[ 3.31675081],\n",
       "       [ 2.20946492],\n",
       "       [ 2.51674015],\n",
       "       [ 3.75706561],\n",
       "       [ 1.00890849],\n",
       "       [ 3.05025392],\n",
       "       [ 2.44908967],\n",
       "       [ 2.05943687],\n",
       "       [ 2.5108743 ],\n",
       "       [ 2.75362819],\n",
       "       [ 3.47973668],\n",
       "       [ 1.7547529 ],\n",
       "       [ 2.11346234],\n",
       "       [ 3.45815682],\n",
       "       [ 4.31278391],\n",
       "       [ 2.3051882 ],\n",
       "       [ 2.17195527],\n",
       "       [ 1.89897118],\n",
       "       [ 3.54198508],\n",
       "       [ 2.0845222 ],\n",
       "       [ 3.12440254],\n",
       "       [ 1.08657007],\n",
       "       [ 2.53522408],\n",
       "       [ 1.64498834],\n",
       "       [ 1.76157587],\n",
       "       [ 0.9900791 ],\n",
       "       [ 1.77527763],\n",
       "       [ 1.23542396],\n",
       "       [ 2.18840633],\n",
       "       [ 2.25610898],\n",
       "       [ 2.50022003],\n",
       "       [ 2.67741105],\n",
       "       [ 1.62857912],\n",
       "       [ 1.90269086],\n",
       "       [ 1.41038853],\n",
       "       [ 1.90382623],\n",
       "       [ 1.38486223],\n",
       "       [ 1.12220741],\n",
       "       [ 1.5021945 ],\n",
       "       [ 2.52980109],\n",
       "       [ 2.58809543],\n",
       "       [ 0.66848199],\n",
       "       [ 3.07080699],\n",
       "       [ 0.46220914],\n",
       "       [ 2.10135193],\n",
       "       [ 1.13616618],\n",
       "       [ 2.72660096],\n",
       "       [ 2.82133927],\n",
       "       [ 2.00985085],\n",
       "       [ 2.7074913 ],\n",
       "       [ 3.21491747],\n",
       "       [ 2.85895983],\n",
       "       [ 3.50560436],\n",
       "       [ 2.22479138],\n",
       "       [ 2.14698782],\n",
       "       [ 2.46932948],\n",
       "       [ 2.74151791],\n",
       "       [ 2.17374092],\n",
       "       [ 3.13938015],\n",
       "       [-0.92858197],\n",
       "       [-1.54248014],\n",
       "       [-1.83624976],\n",
       "       [ 0.03060683],\n",
       "       [ 2.05026161],\n",
       "       [-0.60968083],\n",
       "       [ 0.90022784],\n",
       "       [ 2.24850719],\n",
       "       [ 0.18338403],\n",
       "       [-0.81280503],\n",
       "       [ 1.9756205 ],\n",
       "       [-1.57221622],\n",
       "       [ 1.65768181],\n",
       "       [-0.72537239],\n",
       "       [ 2.56222717],\n",
       "       [ 1.83256757],\n",
       "       [-0.8679929 ],\n",
       "       [ 0.3700144 ],\n",
       "       [-1.45737704],\n",
       "       [ 1.26293085],\n",
       "       [ 0.37615037],\n",
       "       [ 0.7620639 ],\n",
       "       [ 1.03457797],\n",
       "       [-0.49487676],\n",
       "       [-2.53897708],\n",
       "       [ 0.83532015],\n",
       "       [ 0.78790461],\n",
       "       [-0.80683216],\n",
       "       [-0.55804262],\n",
       "       [-1.11511104],\n",
       "       [-0.55572283],\n",
       "       [-1.34928528],\n",
       "       [-1.56448261],\n",
       "       [-1.93255561],\n",
       "       [ 0.74666594],\n",
       "       [ 0.95745536],\n",
       "       [ 2.54386518],\n",
       "       [-0.54395259],\n",
       "       [ 1.03104975],\n",
       "       [ 2.25190942],\n",
       "       [ 1.41021602],\n",
       "       [ 0.79771979],\n",
       "       [-0.54953173],\n",
       "       [-0.16117374],\n",
       "       [-0.65979494],\n",
       "       [ 0.39235441],\n",
       "       [-1.77249908],\n",
       "       [-0.36626736],\n",
       "       [-1.62067257],\n",
       "       [ 0.08253578],\n",
       "       [ 1.57827507],\n",
       "       [ 1.42056925],\n",
       "       [-0.27870275],\n",
       "       [-1.30314497],\n",
       "       [-0.45707187],\n",
       "       [-0.49418585],\n",
       "       [ 0.48207441],\n",
       "       [-0.25288888],\n",
       "       [-0.10722764],\n",
       "       [-2.4330126 ],\n",
       "       [-0.55108954],\n",
       "       [ 0.73962193],\n",
       "       [ 1.33632173],\n",
       "       [-1.177087  ],\n",
       "       [-0.46233501],\n",
       "       [ 0.97847408],\n",
       "       [-0.09680973],\n",
       "       [ 0.03848715],\n",
       "       [-1.5971585 ],\n",
       "       [-0.47956492],\n",
       "       [-1.79283347],\n",
       "       [-1.32710166],\n",
       "       [-2.38450083],\n",
       "       [-2.9369401 ],\n",
       "       [-2.14681113],\n",
       "       [-2.36986949],\n",
       "       [-3.06384157],\n",
       "       [-3.91575378],\n",
       "       [-3.93646339],\n",
       "       [-3.09427612],\n",
       "       [-2.37447163],\n",
       "       [-2.77881295],\n",
       "       [-2.28656128],\n",
       "       [-2.98563349],\n",
       "       [-2.3751947 ],\n",
       "       [-2.20986553],\n",
       "       [-2.625621  ],\n",
       "       [-4.28063878],\n",
       "       [-3.58264137],\n",
       "       [-2.80706372],\n",
       "       [-2.89965933],\n",
       "       [-2.32073698],\n",
       "       [-2.54983095],\n",
       "       [-1.81254128],\n",
       "       [-2.76014464],\n",
       "       [-2.7371505 ],\n",
       "       [-3.60486887],\n",
       "       [-2.889826  ],\n",
       "       [-3.39215608],\n",
       "       [-1.0481819 ],\n",
       "       [-1.60991228],\n",
       "       [-3.14313097],\n",
       "       [-2.2401569 ],\n",
       "       [-2.84767378],\n",
       "       [-2.59749706],\n",
       "       [-2.94929937],\n",
       "       [-3.53003227],\n",
       "       [-2.40611054],\n",
       "       [-2.92908473],\n",
       "       [-2.18141278],\n",
       "       [-2.38092779],\n",
       "       [-3.21161722],\n",
       "       [-3.67791872],\n",
       "       [-2.4655558 ],\n",
       "       [-3.37052415],\n",
       "       [-2.60195585],\n",
       "       [-2.67783946],\n",
       "       [-2.38701709],\n",
       "       [-3.20875816]])"
      ]
     },
     "execution_count": 17,
     "metadata": {},
     "output_type": "execute_result"
    }
   ],
   "source": [
    " pca_values[:,0:1]"
   ]
  },
  {
   "cell_type": "code",
   "execution_count": 19,
   "metadata": {},
   "outputs": [
    {
     "data": {
      "text/plain": [
       "<matplotlib.collections.PathCollection at 0x175ce7a46a0>"
      ]
     },
     "execution_count": 19,
     "metadata": {},
     "output_type": "execute_result"
    },
    {
     "data": {
      "image/png": "[encoded data removed]",
      "text/plain": [
       "<Figure size 432x288 with 1 Axes>"
      ]
     },
     "metadata": {
      "needs_background": "light"
     },
     "output_type": "display_data"
    }
   ],
   "source": [
    "x = pca_values[:,0:1]\n",
    "y = pca_values[:,1:2]\n",
    "plt.scatter(x,y)"
   ]
  },
  {
   "cell_type": "markdown",
   "metadata": {},
   "source": [
    "# kmeans clustering"
   ]
  },
  {
   "cell_type": "code",
   "execution_count": 22,
   "metadata": {},
   "outputs": [],
   "source": [
    "from sklearn.preprocessing import StandardScaler\n",
    "scaler = StandardScaler()\n",
    "scaled_wine_df = scaler.fit_transform(wine.iloc[:,1:])"
   ]
  },
  {
   "cell_type": "code",
   "execution_count": 24,
   "metadata": {},
   "outputs": [
    {
     "data": {
      "image/png": "[encoded data removed]",
      "text/plain": [
       "<Figure size 1152x432 with 1 Axes>"
      ]
     },
     "metadata": {
      "needs_background": "light"
     },
     "output_type": "display_data"
    }
   ],
   "source": [
    "wcss = []\n",
    "for i in range(2,11):\n",
    "    kmeans = KMeans(n_clusters=i,random_state=0)\n",
    "    kmeans.fit(scaled_wine_df)\n",
    "    wcss.append(kmeans.inertia_)\n",
    "    \n",
    "plt.figure(figsize=(16,6))\n",
    "plt.plot(range(2,11), wcss,'ro-')\n",
    "plt.title('Elbow Method')\n",
    "plt.xlabel('Number of clusters')\n",
    "plt.ylabel('WCSS')\n",
    "plt.show()"
   ]
  },
  {
   "cell_type": "markdown",
   "metadata": {},
   "source": [
    "# elbow curve showing an elbow behaviour at cluster= 3 so the value of k=3"
   ]
  },
  {
   "cell_type": "code",
   "execution_count": 39,
   "metadata": {},
   "outputs": [
    {
     "data": {
      "text/plain": [
       "KMeans(n_clusters=3, random_state=42)"
      ]
     },
     "execution_count": 39,
     "metadata": {},
     "output_type": "execute_result"
    }
   ],
   "source": [
    "from sklearn.cluster import KMeans\n",
    "clusters_new = KMeans(3, random_state=42)\n",
    "clusters_new.fit(scaled_wine_df)"
   ]
  },
  {
   "cell_type": "code",
   "execution_count": 26,
   "metadata": {},
   "outputs": [
    {
     "data": {
      "text/plain": [
       "array([0, 0, 0, 0, 0, 0, 0, 0, 0, 0, 0, 0, 0, 0, 0, 0, 0, 0, 0, 0, 0, 0,\n",
       "       0, 0, 0, 0, 0, 0, 0, 0, 0, 0, 0, 0, 0, 0, 0, 0, 0, 0, 0, 0, 0, 0,\n",
       "       0, 0, 0, 0, 0, 0, 0, 0, 0, 0, 0, 0, 0, 0, 0, 2, 2, 1, 2, 2, 2, 2,\n",
       "       2, 2, 2, 2, 2, 2, 2, 0, 2, 2, 2, 2, 2, 2, 2, 2, 2, 1, 2, 2, 2, 2,\n",
       "       2, 2, 2, 2, 2, 2, 2, 0, 2, 2, 2, 2, 2, 2, 2, 2, 2, 2, 2, 2, 2, 2,\n",
       "       2, 2, 2, 2, 2, 2, 2, 2, 1, 2, 2, 0, 2, 2, 2, 2, 2, 2, 2, 2, 1, 1,\n",
       "       1, 1, 1, 1, 1, 1, 1, 1, 1, 1, 1, 1, 1, 1, 1, 1, 1, 1, 1, 1, 1, 1,\n",
       "       1, 1, 1, 1, 1, 1, 1, 1, 1, 1, 1, 1, 1, 1, 1, 1, 1, 1, 1, 1, 1, 1,\n",
       "       1, 1])"
      ]
     },
     "execution_count": 26,
     "metadata": {},
     "output_type": "execute_result"
    }
   ],
   "source": [
    "clusters_new.labels_"
   ]
  },
  {
   "cell_type": "code",
   "execution_count": 27,
   "metadata": {},
   "outputs": [],
   "source": [
    "wine['clusterid_new'] = clusters_new.labels_"
   ]
  },
  {
   "cell_type": "code",
   "execution_count": 28,
   "metadata": {},
   "outputs": [
    {
     "data": {
      "text/plain": [
       "array([[ 0.83523208, -0.30380968,  0.36470604, -0.61019129,  0.5775868 ,\n",
       "         0.88523736,  0.97781956, -0.56208965,  0.58028658,  0.17106348,\n",
       "         0.47398365,  0.77924711,  1.12518529],\n",
       "       [ 0.16490746,  0.87154706,  0.18689833,  0.52436746, -0.07547277,\n",
       "        -0.97933029, -1.21524764,  0.72606354, -0.77970639,  0.94153874,\n",
       "        -1.16478865, -1.29241163, -0.40708796],\n",
       "       [-0.92607185, -0.39404154, -0.49451676,  0.17060184, -0.49171185,\n",
       "        -0.07598265,  0.02081257, -0.03353357,  0.0582655 , -0.90191402,\n",
       "         0.46180361,  0.27076419, -0.75384618]])"
      ]
     },
     "execution_count": 28,
     "metadata": {},
     "output_type": "execute_result"
    }
   ],
   "source": [
    "clusters_new.cluster_centers_"
   ]
  },
  {
   "cell_type": "code",
   "execution_count": 29,
   "metadata": {},
   "outputs": [
    {
     "data": {
      "text/html": [
       "<div>\n",
       "<style scoped>\n",
       "    .dataframe tbody tr th:only-of-type {\n",
       "        vertical-align: middle;\n",
       "    }\n",
       "\n",
       "    .dataframe tbody tr th {\n",
       "        vertical-align: top;\n",
       "    }\n",
       "\n",
       "    .dataframe thead tr th {\n",
       "        text-align: left;\n",
       "    }\n",
       "</style>\n",
       "<table border=\"1\" class=\"dataframe\">\n",
       "  <thead>\n",
       "    <tr>\n",
       "      <th></th>\n",
       "      <th>clusterid_new</th>\n",
       "      <th>Type</th>\n",
       "      <th>Alcohol</th>\n",
       "      <th>Malic</th>\n",
       "      <th>Ash</th>\n",
       "      <th>Alcalinity</th>\n",
       "      <th>Magnesium</th>\n",
       "      <th>Phenols</th>\n",
       "      <th>Flavanoids</th>\n",
       "      <th>Nonflavanoids</th>\n",
       "      <th>Proanthocyanins</th>\n",
       "      <th>Color</th>\n",
       "      <th>Hue</th>\n",
       "      <th>Dilution</th>\n",
       "      <th>Proline</th>\n",
       "    </tr>\n",
       "    <tr>\n",
       "      <th></th>\n",
       "      <th></th>\n",
       "      <th>mean</th>\n",
       "      <th>mean</th>\n",
       "      <th>mean</th>\n",
       "      <th>mean</th>\n",
       "      <th>mean</th>\n",
       "      <th>mean</th>\n",
       "      <th>mean</th>\n",
       "      <th>mean</th>\n",
       "      <th>mean</th>\n",
       "      <th>mean</th>\n",
       "      <th>mean</th>\n",
       "      <th>mean</th>\n",
       "      <th>mean</th>\n",
       "      <th>mean</th>\n",
       "    </tr>\n",
       "  </thead>\n",
       "  <tbody>\n",
       "    <tr>\n",
       "      <th>0</th>\n",
       "      <td>0</td>\n",
       "      <td>1.048387</td>\n",
       "      <td>13.676774</td>\n",
       "      <td>1.997903</td>\n",
       "      <td>2.466290</td>\n",
       "      <td>17.462903</td>\n",
       "      <td>107.967742</td>\n",
       "      <td>2.847581</td>\n",
       "      <td>3.003226</td>\n",
       "      <td>0.292097</td>\n",
       "      <td>1.922097</td>\n",
       "      <td>5.453548</td>\n",
       "      <td>1.065484</td>\n",
       "      <td>3.163387</td>\n",
       "      <td>1100.225806</td>\n",
       "    </tr>\n",
       "    <tr>\n",
       "      <th>1</th>\n",
       "      <td>1</td>\n",
       "      <td>2.941176</td>\n",
       "      <td>13.134118</td>\n",
       "      <td>3.307255</td>\n",
       "      <td>2.417647</td>\n",
       "      <td>21.241176</td>\n",
       "      <td>98.666667</td>\n",
       "      <td>1.683922</td>\n",
       "      <td>0.818824</td>\n",
       "      <td>0.451961</td>\n",
       "      <td>1.145882</td>\n",
       "      <td>7.234706</td>\n",
       "      <td>0.691961</td>\n",
       "      <td>1.696667</td>\n",
       "      <td>619.058824</td>\n",
       "    </tr>\n",
       "    <tr>\n",
       "      <th>2</th>\n",
       "      <td>2</td>\n",
       "      <td>2.000000</td>\n",
       "      <td>12.250923</td>\n",
       "      <td>1.897385</td>\n",
       "      <td>2.231231</td>\n",
       "      <td>20.063077</td>\n",
       "      <td>92.738462</td>\n",
       "      <td>2.247692</td>\n",
       "      <td>2.050000</td>\n",
       "      <td>0.357692</td>\n",
       "      <td>1.624154</td>\n",
       "      <td>2.973077</td>\n",
       "      <td>1.062708</td>\n",
       "      <td>2.803385</td>\n",
       "      <td>510.169231</td>\n",
       "    </tr>\n",
       "  </tbody>\n",
       "</table>\n",
       "</div>"
      ],
      "text/plain": [
       "  clusterid_new      Type    Alcohol     Malic       Ash Alcalinity  \\\n",
       "                     mean       mean      mean      mean       mean   \n",
       "0             0  1.048387  13.676774  1.997903  2.466290  17.462903   \n",
       "1             1  2.941176  13.134118  3.307255  2.417647  21.241176   \n",
       "2             2  2.000000  12.250923  1.897385  2.231231  20.063077   \n",
       "\n",
       "    Magnesium   Phenols Flavanoids Nonflavanoids Proanthocyanins     Color  \\\n",
       "         mean      mean       mean          mean            mean      mean   \n",
       "0  107.967742  2.847581   3.003226      0.292097        1.922097  5.453548   \n",
       "1   98.666667  1.683922   0.818824      0.451961        1.145882  7.234706   \n",
       "2   92.738462  2.247692   2.050000      0.357692        1.624154  2.973077   \n",
       "\n",
       "        Hue  Dilution      Proline  \n",
       "       mean      mean         mean  \n",
       "0  1.065484  3.163387  1100.225806  \n",
       "1  0.691961  1.696667   619.058824  \n",
       "2  1.062708  2.803385   510.169231  "
      ]
     },
     "execution_count": 29,
     "metadata": {},
     "output_type": "execute_result"
    }
   ],
   "source": [
    "wine.groupby('clusterid_new').agg(['mean']).reset_index()"
   ]
  },
  {
   "cell_type": "code",
   "execution_count": 30,
   "metadata": {},
   "outputs": [
    {
     "data": {
      "text/html": [
       "<div>\n",
       "<style scoped>\n",
       "    .dataframe tbody tr th:only-of-type {\n",
       "        vertical-align: middle;\n",
       "    }\n",
       "\n",
       "    .dataframe tbody tr th {\n",
       "        vertical-align: top;\n",
       "    }\n",
       "\n",
       "    .dataframe thead th {\n",
       "        text-align: right;\n",
       "    }\n",
       "</style>\n",
       "<table border=\"1\" class=\"dataframe\">\n",
       "  <thead>\n",
       "    <tr style=\"text-align: right;\">\n",
       "      <th></th>\n",
       "      <th>Type</th>\n",
       "      <th>Alcohol</th>\n",
       "      <th>Malic</th>\n",
       "      <th>Ash</th>\n",
       "      <th>Alcalinity</th>\n",
       "      <th>Magnesium</th>\n",
       "      <th>Phenols</th>\n",
       "      <th>Flavanoids</th>\n",
       "      <th>Nonflavanoids</th>\n",
       "      <th>Proanthocyanins</th>\n",
       "      <th>Color</th>\n",
       "      <th>Hue</th>\n",
       "      <th>Dilution</th>\n",
       "      <th>Proline</th>\n",
       "      <th>clusterid_new</th>\n",
       "    </tr>\n",
       "  </thead>\n",
       "  <tbody>\n",
       "    <tr>\n",
       "      <th>0</th>\n",
       "      <td>1</td>\n",
       "      <td>14.23</td>\n",
       "      <td>1.71</td>\n",
       "      <td>2.43</td>\n",
       "      <td>15.6</td>\n",
       "      <td>127</td>\n",
       "      <td>2.80</td>\n",
       "      <td>3.06</td>\n",
       "      <td>0.28</td>\n",
       "      <td>2.29</td>\n",
       "      <td>5.64</td>\n",
       "      <td>1.04</td>\n",
       "      <td>3.92</td>\n",
       "      <td>1065</td>\n",
       "      <td>0</td>\n",
       "    </tr>\n",
       "    <tr>\n",
       "      <th>1</th>\n",
       "      <td>1</td>\n",
       "      <td>13.20</td>\n",
       "      <td>1.78</td>\n",
       "      <td>2.14</td>\n",
       "      <td>11.2</td>\n",
       "      <td>100</td>\n",
       "      <td>2.65</td>\n",
       "      <td>2.76</td>\n",
       "      <td>0.26</td>\n",
       "      <td>1.28</td>\n",
       "      <td>4.38</td>\n",
       "      <td>1.05</td>\n",
       "      <td>3.40</td>\n",
       "      <td>1050</td>\n",
       "      <td>0</td>\n",
       "    </tr>\n",
       "    <tr>\n",
       "      <th>2</th>\n",
       "      <td>1</td>\n",
       "      <td>13.16</td>\n",
       "      <td>2.36</td>\n",
       "      <td>2.67</td>\n",
       "      <td>18.6</td>\n",
       "      <td>101</td>\n",
       "      <td>2.80</td>\n",
       "      <td>3.24</td>\n",
       "      <td>0.30</td>\n",
       "      <td>2.81</td>\n",
       "      <td>5.68</td>\n",
       "      <td>1.03</td>\n",
       "      <td>3.17</td>\n",
       "      <td>1185</td>\n",
       "      <td>0</td>\n",
       "    </tr>\n",
       "    <tr>\n",
       "      <th>3</th>\n",
       "      <td>1</td>\n",
       "      <td>14.37</td>\n",
       "      <td>1.95</td>\n",
       "      <td>2.50</td>\n",
       "      <td>16.8</td>\n",
       "      <td>113</td>\n",
       "      <td>3.85</td>\n",
       "      <td>3.49</td>\n",
       "      <td>0.24</td>\n",
       "      <td>2.18</td>\n",
       "      <td>7.80</td>\n",
       "      <td>0.86</td>\n",
       "      <td>3.45</td>\n",
       "      <td>1480</td>\n",
       "      <td>0</td>\n",
       "    </tr>\n",
       "    <tr>\n",
       "      <th>4</th>\n",
       "      <td>1</td>\n",
       "      <td>13.24</td>\n",
       "      <td>2.59</td>\n",
       "      <td>2.87</td>\n",
       "      <td>21.0</td>\n",
       "      <td>118</td>\n",
       "      <td>2.80</td>\n",
       "      <td>2.69</td>\n",
       "      <td>0.39</td>\n",
       "      <td>1.82</td>\n",
       "      <td>4.32</td>\n",
       "      <td>1.04</td>\n",
       "      <td>2.93</td>\n",
       "      <td>735</td>\n",
       "      <td>0</td>\n",
       "    </tr>\n",
       "  </tbody>\n",
       "</table>\n",
       "</div>"
      ],
      "text/plain": [
       "   Type  Alcohol  Malic   Ash  Alcalinity  Magnesium  Phenols  Flavanoids  \\\n",
       "0     1    14.23   1.71  2.43        15.6        127     2.80        3.06   \n",
       "1     1    13.20   1.78  2.14        11.2        100     2.65        2.76   \n",
       "2     1    13.16   2.36  2.67        18.6        101     2.80        3.24   \n",
       "3     1    14.37   1.95  2.50        16.8        113     3.85        3.49   \n",
       "4     1    13.24   2.59  2.87        21.0        118     2.80        2.69   \n",
       "\n",
       "   Nonflavanoids  Proanthocyanins  Color   Hue  Dilution  Proline  \\\n",
       "0           0.28             2.29   5.64  1.04      3.92     1065   \n",
       "1           0.26             1.28   4.38  1.05      3.40     1050   \n",
       "2           0.30             2.81   5.68  1.03      3.17     1185   \n",
       "3           0.24             2.18   7.80  0.86      3.45     1480   \n",
       "4           0.39             1.82   4.32  1.04      2.93      735   \n",
       "\n",
       "   clusterid_new  \n",
       "0              0  \n",
       "1              0  \n",
       "2              0  \n",
       "3              0  \n",
       "4              0  "
      ]
     },
     "execution_count": 30,
     "metadata": {},
     "output_type": "execute_result"
    }
   ],
   "source": [
    "wine.head()"
   ]
  },
  {
   "cell_type": "code",
   "execution_count": 31,
   "metadata": {},
   "outputs": [
    {
     "data": {
      "text/plain": [
       "2    65\n",
       "0    62\n",
       "1    51\n",
       "Name: clusterid_new, dtype: int64"
      ]
     },
     "execution_count": 31,
     "metadata": {},
     "output_type": "execute_result"
    }
   ],
   "source": [
    "wine['clusterid_new'].value_counts()"
   ]
  },
  {
   "cell_type": "markdown",
   "metadata": {},
   "source": [
    "# k means clustering using pca 1st three components"
   ]
  },
  {
   "cell_type": "code",
   "execution_count": 34,
   "metadata": {},
   "outputs": [
    {
     "data": {
      "text/plain": [
       "array([[ 3.31675081e+00, -1.44346263e+00, -1.65739045e-01],\n",
       "       [ 2.20946492e+00,  3.33392887e-01, -2.02645737e+00],\n",
       "       [ 2.51674015e+00, -1.03115130e+00,  9.82818670e-01],\n",
       "       [ 3.75706561e+00, -2.75637191e+00, -1.76191842e-01],\n",
       "       [ 1.00890849e+00, -8.69830821e-01,  2.02668822e+00],\n",
       "       [ 3.05025392e+00, -2.12240111e+00, -6.29395827e-01],\n",
       "       [ 2.44908967e+00, -1.17485013e+00, -9.77094891e-01],\n",
       "       [ 2.05943687e+00, -1.60896307e+00,  1.46281883e-01],\n",
       "       [ 2.51087430e+00, -9.18070957e-01, -1.77096903e+00],\n",
       "       [ 2.75362819e+00, -7.89437674e-01, -9.84247490e-01],\n",
       "       [ 3.47973668e+00, -1.30233324e+00, -4.22735217e-01],\n",
       "       [ 1.75475290e+00, -6.11977229e-01, -1.19087832e+00],\n",
       "       [ 2.11346234e+00, -6.75706339e-01, -8.65086426e-01],\n",
       "       [ 3.45815682e+00, -1.13062988e+00, -1.20427635e+00],\n",
       "       [ 4.31278391e+00, -2.09597558e+00, -1.26391275e+00],\n",
       "       [ 2.30518820e+00, -1.66255173e+00,  2.17902616e-01],\n",
       "       [ 2.17195527e+00, -2.32730534e+00,  8.31729866e-01],\n",
       "       [ 1.89897118e+00, -1.63136888e+00,  7.94913792e-01],\n",
       "       [ 3.54198508e+00, -2.51834367e+00, -4.85458508e-01],\n",
       "       [ 2.08452220e+00, -1.06113799e+00, -1.64746678e-01],\n",
       "       [ 3.12440254e+00, -7.86897106e-01, -3.64887083e-01],\n",
       "       [ 1.08657007e+00, -2.41743551e-01,  9.36961600e-01],\n",
       "       [ 2.53522408e+00,  9.18406207e-02, -3.11932659e-01],\n",
       "       [ 1.64498834e+00,  5.16278930e-01,  1.43885095e-01],\n",
       "       [ 1.76157587e+00,  3.17148933e-01,  8.90285647e-01],\n",
       "       [ 9.90079102e-01, -9.40667338e-01,  3.82090801e+00],\n",
       "       [ 1.77527763e+00, -6.86175134e-01, -8.67004065e-02],\n",
       "       [ 1.23542396e+00,  8.98070414e-02, -1.38689654e+00],\n",
       "       [ 2.18840633e+00, -6.89569621e-01,  1.39456688e+00],\n",
       "       [ 2.25610898e+00, -1.91461937e-01, -1.09265726e+00],\n",
       "       [ 2.50022003e+00, -1.24083383e+00,  1.38601785e+00],\n",
       "       [ 2.67741105e+00, -1.47187365e+00, -3.32261728e-01],\n",
       "       [ 1.62857912e+00, -5.27044506e-02, -1.67128706e-01],\n",
       "       [ 1.90269086e+00, -1.63306043e+00,  1.17208212e+00],\n",
       "       [ 1.41038853e+00, -6.97934325e-01,  4.79743025e-01],\n",
       "       [ 1.90382623e+00, -1.76710951e-01,  4.50835040e-01],\n",
       "       [ 1.38486223e+00, -6.58639854e-01,  4.58438581e-01],\n",
       "       [ 1.12220741e+00, -1.14109760e-01, -3.91072767e-02],\n",
       "       [ 1.50219450e+00,  7.69432006e-01, -1.42617735e+00],\n",
       "       [ 2.52980109e+00, -1.80300198e+00, -3.43152389e-01],\n",
       "       [ 2.58809543e+00, -7.79616304e-01, -1.18477466e-01],\n",
       "       [ 6.68481994e-01, -1.69960941e-01, -7.83362548e-01],\n",
       "       [ 3.07080699e+00, -1.15591896e+00, -3.12758084e-01],\n",
       "       [ 4.62209138e-01, -3.30742132e-01, -2.01476496e-01],\n",
       "       [ 2.10135193e+00,  7.10089210e-02, -6.55849415e-01],\n",
       "       [ 1.13616618e+00, -1.77710739e+00,  2.87057358e-02],\n",
       "       [ 2.72660096e+00, -1.19133469e+00, -5.39773261e-01],\n",
       "       [ 2.82133927e+00, -6.46258599e-01, -1.15555241e+00],\n",
       "       [ 2.00985085e+00, -1.24702946e+00, -5.72939879e-02],\n",
       "       [ 2.70749130e+00, -1.75196741e+00, -6.43113612e-01],\n",
       "       [ 3.21491747e+00, -1.66991995e-01, -1.97357168e+00],\n",
       "       [ 2.85895983e+00, -7.45278804e-01,  4.71950216e-03],\n",
       "       [ 3.50560436e+00, -1.61273386e+00, -5.20774530e-01],\n",
       "       [ 2.22479138e+00, -1.87516800e+00,  3.39549850e-01],\n",
       "       [ 2.14698782e+00, -1.01675154e+00, -9.57762762e-01],\n",
       "       [ 2.46932948e+00, -1.32900831e+00,  5.13437453e-01],\n",
       "       [ 2.74151791e+00, -1.43654878e+00, -6.12473396e-01],\n",
       "       [ 2.17374092e+00, -1.21219984e+00,  2.61779593e-01],\n",
       "       [ 3.13938015e+00, -1.73157912e+00, -2.85661413e-01],\n",
       "       [-9.28581969e-01,  3.07348616e+00, -4.58506401e+00],\n",
       "       [-1.54248014e+00,  1.38144351e+00, -8.74683112e-01],\n",
       "       [-1.83624976e+00,  8.29984123e-01, -1.60570219e+00],\n",
       "       [ 3.06068341e-02,  1.26278614e+00, -1.78440801e+00],\n",
       "       [ 2.05026161e+00,  1.92503260e+00, -7.36877735e-03],\n",
       "       [-6.09680827e-01,  1.90805881e+00,  6.79357938e-01],\n",
       "       [ 9.00227839e-01,  7.63911474e-01,  5.73361302e-01],\n",
       "       [ 2.24850719e+00,  1.88459248e+00, -2.03184019e+00],\n",
       "       [ 1.83384027e-01,  2.42714611e+00, -1.06974556e+00],\n",
       "       [-8.12805027e-01,  2.20513987e-01, -7.07005396e-01],\n",
       "       [ 1.97562050e+00,  1.40328323e+00, -1.23827622e+00],\n",
       "       [-1.57221622e+00,  8.84983137e-01, -6.28997950e-01],\n",
       "       [ 1.65768181e+00,  9.56712197e-01,  1.95258422e+00],\n",
       "       [-7.25372388e-01,  1.06364540e+00,  8.03322286e-02],\n",
       "       [ 2.56222717e+00, -2.60198551e-01,  3.37439396e+00],\n",
       "       [ 1.83256757e+00,  1.28787820e+00,  4.58280027e-01],\n",
       "       [-8.67992903e-01,  2.44410119e+00, -1.56333318e+00],\n",
       "       [ 3.70014404e-01,  2.15390698e+00, -2.44938635e+00],\n",
       "       [-1.45737704e+00,  1.38335177e+00, -2.27306902e-01],\n",
       "       [ 1.26293085e+00,  7.70849530e-01, -1.18422452e+00],\n",
       "       [ 3.76150372e-01,  1.02704340e+00,  1.79446629e+00],\n",
       "       [ 7.62063904e-01,  3.37505381e+00, -3.57470056e-01],\n",
       "       [ 1.03457797e+00,  1.45070974e+00, -3.63011773e-01],\n",
       "       [-4.94876756e-01,  2.38124353e+00,  1.33574318e+00],\n",
       "       [-2.53897708e+00,  8.74433573e-02,  4.74251393e-01],\n",
       "       [ 8.35320145e-01,  1.47367055e+00,  6.10093576e-01],\n",
       "       [ 7.87904615e-01,  2.02662652e+00, -2.54723404e-01],\n",
       "       [-8.06832156e-01,  2.23383039e+00,  7.72855797e-01],\n",
       "       [-5.58042625e-01,  2.37298543e+00,  2.30761140e+00],\n",
       "       [-1.11511104e+00,  1.80224719e+00,  9.59253308e-01],\n",
       "       [-5.55722830e-01,  2.65754004e+00,  8.49126898e-01],\n",
       "       [-1.34928528e+00,  2.11800147e+00, -4.76523208e-02],\n",
       "       [-1.56448261e+00,  1.85221452e+00,  7.81067031e-01],\n",
       "       [-1.93255561e+00,  1.55949546e+00, -8.92746761e-02],\n",
       "       [ 7.46665942e-01,  2.31293171e+00,  1.14679769e-01],\n",
       "       [ 9.57455364e-01,  2.22352843e+00,  1.42444774e-01],\n",
       "       [ 2.54386518e+00, -1.69274023e-01,  7.88696991e-01],\n",
       "       [-5.43952589e-01,  3.68926546e-01,  1.30889593e+00],\n",
       "       [ 1.03104975e+00,  2.56556935e+00, -1.08639017e+00],\n",
       "       [ 2.25190942e+00,  1.43274138e+00, -2.30208244e-01],\n",
       "       [ 1.41021602e+00,  2.16619177e+00,  7.48896411e-01],\n",
       "       [ 7.97719793e-01,  2.37694880e+00, -1.56811253e+00],\n",
       "       [-5.49531727e-01,  2.29312864e+00, -1.49893532e+00],\n",
       "       [-1.61173740e-01,  1.16448332e+00,  1.00371310e+00],\n",
       "       [-6.59794942e-01,  2.67996119e+00, -7.64920868e-01],\n",
       "       [ 3.92354408e-01,  2.09873171e+00, -4.71850008e-01],\n",
       "       [-1.77249908e+00,  1.71728847e+00,  9.47033174e-01],\n",
       "       [-3.66267357e-01,  2.16935330e+00, -4.81324235e-01],\n",
       "       [-1.62067257e+00,  1.35558339e+00,  2.87159001e-01],\n",
       "       [ 8.25357835e-02,  2.30623459e+00, -4.63574989e-01],\n",
       "       [ 1.57827507e+00,  1.46203429e+00,  1.77964595e+00],\n",
       "       [ 1.42056925e+00,  1.41820664e+00,  1.39275829e-01],\n",
       "       [-2.78702754e-01,  1.93056809e+00,  7.86705530e-02],\n",
       "       [-1.30314497e+00,  7.63172314e-01,  1.99959651e+00],\n",
       "       [-4.57071866e-01,  2.26941561e+00,  1.06133897e+00],\n",
       "       [-4.94185847e-01,  1.93904505e+00,  1.32393807e+00],\n",
       "       [ 4.82074410e-01,  3.87178385e+00,  1.34427122e+00],\n",
       "       [-2.52888878e-01,  2.82149237e+00, -3.02639785e-01],\n",
       "       [-1.07227638e-01,  1.92892204e+00,  6.90148243e-01],\n",
       "       [-2.43301260e+00,  1.25714104e+00, -1.90302740e+00],\n",
       "       [-5.51089539e-01,  2.22216155e+00, -3.56228830e-01],\n",
       "       [ 7.39621929e-01,  1.40895667e+00,  1.12534549e+00],\n",
       "       [ 1.33632173e+00, -2.53336931e-01,  5.34538818e+00],\n",
       "       [-1.17708700e+00,  6.63966840e-01,  3.01022189e+00],\n",
       "       [-4.62335008e-01,  6.18288179e-01,  4.83442366e-01],\n",
       "       [ 9.78474079e-01,  1.44557050e+00,  1.48123697e+00],\n",
       "       [-9.68097263e-02,  2.10999799e+00,  4.34826116e-01],\n",
       "       [ 3.84871459e-02,  1.26676211e+00,  6.87577913e-01],\n",
       "       [-1.59715850e+00,  1.20814357e+00,  3.36117556e+00],\n",
       "       [-4.79564916e-01,  1.93884066e+00,  1.29650752e+00],\n",
       "       [-1.79283347e+00,  1.15028810e+00,  7.82800173e-01],\n",
       "       [-1.32710166e+00, -1.70389232e-01, -1.18001336e+00],\n",
       "       [-2.38450083e+00, -3.74582606e-01, -7.23822595e-01],\n",
       "       [-2.93694010e+00, -2.63861830e-01, -1.67639816e-01],\n",
       "       [-2.14681113e+00, -3.68254952e-01, -4.53301301e-01],\n",
       "       [-2.36986949e+00,  4.59634809e-01, -1.10139979e+00],\n",
       "       [-3.06384157e+00, -3.53412835e-01, -1.09912410e+00],\n",
       "       [-3.91575378e+00, -1.54582519e-01,  2.21827800e-01],\n",
       "       [-3.93646339e+00, -6.59687233e-01,  1.71221542e+00],\n",
       "       [-3.09427612e+00, -3.48842759e-01, -1.02683141e+00],\n",
       "       [-2.37447163e+00, -2.91980352e-01,  1.24191433e+00],\n",
       "       [-2.77881295e+00, -2.86804873e-01,  6.09670124e-01],\n",
       "       [-2.28656128e+00, -3.72507845e-01, -9.71643032e-01],\n",
       "       [-2.98563349e+00, -4.89217908e-01,  9.46952932e-01],\n",
       "       [-2.37519470e+00, -4.82333717e-01, -2.52883994e-01],\n",
       "       [-2.20986553e+00, -1.16005250e+00, -1.24512523e+00],\n",
       "       [-2.62562100e+00, -5.63160764e-01, -8.55961082e-01],\n",
       "       [-4.28063878e+00, -6.49670964e-01, -1.45819696e+00],\n",
       "       [-3.58264137e+00, -1.27270275e+00, -1.10784038e-01],\n",
       "       [-2.80706372e+00, -1.57053379e+00, -4.72527935e-01],\n",
       "       [-2.89965933e+00, -2.04105701e+00, -4.95959810e-01],\n",
       "       [-2.32073698e+00, -2.35636608e+00,  4.37681744e-01],\n",
       "       [-2.54983095e+00, -2.04528309e+00, -3.12267999e-01],\n",
       "       [-1.81254128e+00, -1.52764595e+00,  1.36258978e+00],\n",
       "       [-2.76014464e+00, -2.13893235e+00, -9.64628688e-01],\n",
       "       [-2.73715050e+00, -4.09886271e-01, -1.19040468e+00],\n",
       "       [-3.60486887e+00, -1.80238422e+00, -9.40368613e-02],\n",
       "       [-2.88982600e+00, -1.92521861e+00, -7.82322556e-01],\n",
       "       [-3.39215608e+00, -1.31187639e+00,  1.60202597e+00],\n",
       "       [-1.04818190e+00, -3.51508969e+00,  1.16003857e+00],\n",
       "       [-1.60991228e+00, -2.40663816e+00,  5.48559697e-01],\n",
       "       [-3.14313097e+00, -7.38161044e-01, -9.09987239e-02],\n",
       "       [-2.24015690e+00, -1.17546529e+00, -1.01376932e-01],\n",
       "       [-2.84767378e+00, -5.56043966e-01,  8.04215218e-01],\n",
       "       [-2.59749706e+00, -6.97965537e-01, -8.84939521e-01],\n",
       "       [-2.94929937e+00, -1.55530896e+00, -9.83400727e-01],\n",
       "       [-3.53003227e+00, -8.82526796e-01, -4.66029128e-01],\n",
       "       [-2.40611054e+00, -2.59235618e+00,  4.28226211e-01],\n",
       "       [-2.92908473e+00, -1.27444695e+00, -1.21335827e+00],\n",
       "       [-2.18141278e+00, -2.07753731e+00,  7.63782552e-01],\n",
       "       [-2.38092779e+00, -2.58866743e+00,  1.41804403e+00],\n",
       "       [-3.21161722e+00,  2.51249104e-01, -8.47129152e-01],\n",
       "       [-3.67791872e+00, -8.47747844e-01, -1.33942023e+00],\n",
       "       [-2.46555580e+00, -2.19379830e+00, -9.18780960e-01],\n",
       "       [-3.37052415e+00, -2.21628914e+00, -3.42569512e-01],\n",
       "       [-2.60195585e+00, -1.75722935e+00,  2.07581355e-01],\n",
       "       [-2.67783946e+00, -2.76089913e+00, -9.40941877e-01],\n",
       "       [-2.38701709e+00, -2.29734668e+00, -5.50696197e-01],\n",
       "       [-3.20875816e+00, -2.76891957e+00,  1.01391366e+00]])"
      ]
     },
     "execution_count": 34,
     "metadata": {},
     "output_type": "execute_result"
    }
   ],
   "source": [
    "pca_values"
   ]
  },
  {
   "cell_type": "code",
   "execution_count": 36,
   "metadata": {},
   "outputs": [
    {
     "data": {
      "text/html": [
       "<div>\n",
       "<style scoped>\n",
       "    .dataframe tbody tr th:only-of-type {\n",
       "        vertical-align: middle;\n",
       "    }\n",
       "\n",
       "    .dataframe tbody tr th {\n",
       "        vertical-align: top;\n",
       "    }\n",
       "\n",
       "    .dataframe thead th {\n",
       "        text-align: right;\n",
       "    }\n",
       "</style>\n",
       "<table border=\"1\" class=\"dataframe\">\n",
       "  <thead>\n",
       "    <tr style=\"text-align: right;\">\n",
       "      <th></th>\n",
       "      <th>0</th>\n",
       "      <th>1</th>\n",
       "      <th>2</th>\n",
       "    </tr>\n",
       "  </thead>\n",
       "  <tbody>\n",
       "    <tr>\n",
       "      <th>0</th>\n",
       "      <td>3.316751</td>\n",
       "      <td>-1.443463</td>\n",
       "      <td>-0.165739</td>\n",
       "    </tr>\n",
       "    <tr>\n",
       "      <th>1</th>\n",
       "      <td>2.209465</td>\n",
       "      <td>0.333393</td>\n",
       "      <td>-2.026457</td>\n",
       "    </tr>\n",
       "    <tr>\n",
       "      <th>2</th>\n",
       "      <td>2.516740</td>\n",
       "      <td>-1.031151</td>\n",
       "      <td>0.982819</td>\n",
       "    </tr>\n",
       "    <tr>\n",
       "      <th>3</th>\n",
       "      <td>3.757066</td>\n",
       "      <td>-2.756372</td>\n",
       "      <td>-0.176192</td>\n",
       "    </tr>\n",
       "    <tr>\n",
       "      <th>4</th>\n",
       "      <td>1.008908</td>\n",
       "      <td>-0.869831</td>\n",
       "      <td>2.026688</td>\n",
       "    </tr>\n",
       "  </tbody>\n",
       "</table>\n",
       "</div>"
      ],
      "text/plain": [
       "          0         1         2\n",
       "0  3.316751 -1.443463 -0.165739\n",
       "1  2.209465  0.333393 -2.026457\n",
       "2  2.516740 -1.031151  0.982819\n",
       "3  3.757066 -2.756372 -0.176192\n",
       "4  1.008908 -0.869831  2.026688"
      ]
     },
     "execution_count": 36,
     "metadata": {},
     "output_type": "execute_result"
    }
   ],
   "source": [
    "Wine_pca = pd.DataFrame(pca_values)\n",
    "Wine_pca.head()"
   ]
  },
  {
   "cell_type": "code",
   "execution_count": 37,
   "metadata": {},
   "outputs": [
    {
     "data": {
      "image/png": "[encoded data removed]",
      "text/plain": [
       "<Figure size 1152x432 with 1 Axes>"
      ]
     },
     "metadata": {
      "needs_background": "light"
     },
     "output_type": "display_data"
    }
   ],
   "source": [
    "wcss = []\n",
    "for i in range(2,11):\n",
    "    kmeans = KMeans(n_clusters=i,random_state=0)\n",
    "    kmeans.fit(Wine_pca)\n",
    "    wcss.append(kmeans.inertia_)\n",
    "    \n",
    "plt.figure(figsize=(16,6))\n",
    "plt.plot(range(2,11), wcss,'ro-')\n",
    "plt.title('Elbow Method')\n",
    "plt.xlabel('Number of clusters')\n",
    "plt.ylabel('WCSS')\n",
    "plt.show()"
   ]
  },
  {
   "cell_type": "markdown",
   "metadata": {},
   "source": [
    "#  With pca also we are getting elbow at 3 in our screen plot, so will make model using no. of cluster=3."
   ]
  },
  {
   "cell_type": "code",
   "execution_count": 40,
   "metadata": {},
   "outputs": [
    {
     "data": {
      "text/plain": [
       "KMeans(n_clusters=3, random_state=42)"
      ]
     },
     "execution_count": 40,
     "metadata": {},
     "output_type": "execute_result"
    }
   ],
   "source": [
    "from sklearn.cluster import KMeans\n",
    "clusters_new1 = KMeans(3, random_state=42)\n",
    "clusters_new1.fit(Wine_pca)"
   ]
  },
  {
   "cell_type": "code",
   "execution_count": 41,
   "metadata": {},
   "outputs": [
    {
     "data": {
      "text/plain": [
       "array([1, 1, 1, 1, 1, 1, 1, 1, 1, 1, 1, 1, 1, 1, 1, 1, 1, 1, 1, 1, 1, 1,\n",
       "       1, 1, 1, 1, 1, 1, 1, 1, 1, 1, 1, 1, 1, 1, 1, 1, 1, 1, 1, 1, 1, 1,\n",
       "       1, 1, 1, 1, 1, 1, 1, 1, 1, 1, 1, 1, 1, 1, 1, 2, 2, 0, 2, 2, 2, 2,\n",
       "       2, 2, 2, 2, 2, 2, 2, 1, 2, 2, 2, 2, 2, 2, 2, 2, 2, 0, 2, 2, 2, 2,\n",
       "       2, 2, 2, 2, 2, 2, 2, 1, 2, 2, 1, 2, 2, 2, 2, 2, 2, 2, 2, 2, 2, 2,\n",
       "       2, 2, 2, 2, 2, 2, 2, 2, 0, 2, 2, 1, 2, 2, 2, 2, 2, 2, 2, 2, 0, 0,\n",
       "       0, 0, 0, 0, 0, 0, 0, 0, 0, 0, 0, 0, 0, 0, 0, 0, 0, 0, 0, 0, 0, 0,\n",
       "       0, 0, 0, 0, 0, 0, 0, 0, 0, 0, 0, 0, 0, 0, 0, 0, 0, 0, 0, 0, 0, 0,\n",
       "       0, 0])"
      ]
     },
     "execution_count": 41,
     "metadata": {},
     "output_type": "execute_result"
    }
   ],
   "source": [
    "clusters_new1.labels_"
   ]
  },
  {
   "cell_type": "code",
   "execution_count": 51,
   "metadata": {},
   "outputs": [],
   "source": [
    "Wine_pca['clusterid_new1'] = clusters_new1.labels_"
   ]
  },
  {
   "cell_type": "code",
   "execution_count": 53,
   "metadata": {},
   "outputs": [],
   "source": [
    "from collections import Counter"
   ]
  },
  {
   "cell_type": "code",
   "execution_count": 54,
   "metadata": {},
   "outputs": [],
   "source": [
    "count_1 = Counter(clusters_new1.labels_)"
   ]
  },
  {
   "cell_type": "code",
   "execution_count": 55,
   "metadata": {},
   "outputs": [
    {
     "data": {
      "text/plain": [
       "Counter({1: 63, 2: 64, 0: 51})"
      ]
     },
     "execution_count": 55,
     "metadata": {},
     "output_type": "execute_result"
    }
   ],
   "source": [
    "count_1"
   ]
  },
  {
   "cell_type": "markdown",
   "metadata": {},
   "source": [
    "# moreover same result and same number of clusters in kmeans"
   ]
  },
  {
   "cell_type": "markdown",
   "metadata": {},
   "source": [
    "# Hierarchical clustering"
   ]
  },
  {
   "cell_type": "code",
   "execution_count": 56,
   "metadata": {},
   "outputs": [],
   "source": [
    "def norm_func(i):\n",
    "    x = (i-i.min())/(i.max()-i.min())\n",
    "    return (x)"
   ]
  },
  {
   "cell_type": "code",
   "execution_count": 59,
   "metadata": {},
   "outputs": [],
   "source": [
    "wineh = pd.read_csv(\"wine.csv\")"
   ]
  },
  {
   "cell_type": "code",
   "execution_count": 60,
   "metadata": {},
   "outputs": [
    {
     "data": {
      "text/html": [
       "<div>\n",
       "<style scoped>\n",
       "    .dataframe tbody tr th:only-of-type {\n",
       "        vertical-align: middle;\n",
       "    }\n",
       "\n",
       "    .dataframe tbody tr th {\n",
       "        vertical-align: top;\n",
       "    }\n",
       "\n",
       "    .dataframe thead th {\n",
       "        text-align: right;\n",
       "    }\n",
       "</style>\n",
       "<table border=\"1\" class=\"dataframe\">\n",
       "  <thead>\n",
       "    <tr style=\"text-align: right;\">\n",
       "      <th></th>\n",
       "      <th>Alcohol</th>\n",
       "      <th>Malic</th>\n",
       "      <th>Ash</th>\n",
       "      <th>Alcalinity</th>\n",
       "      <th>Magnesium</th>\n",
       "      <th>Phenols</th>\n",
       "      <th>Flavanoids</th>\n",
       "      <th>Nonflavanoids</th>\n",
       "      <th>Proanthocyanins</th>\n",
       "      <th>Color</th>\n",
       "      <th>Hue</th>\n",
       "      <th>Dilution</th>\n",
       "      <th>Proline</th>\n",
       "    </tr>\n",
       "  </thead>\n",
       "  <tbody>\n",
       "    <tr>\n",
       "      <th>0</th>\n",
       "      <td>0.842105</td>\n",
       "      <td>0.191700</td>\n",
       "      <td>0.572193</td>\n",
       "      <td>0.257732</td>\n",
       "      <td>0.619565</td>\n",
       "      <td>0.627586</td>\n",
       "      <td>0.573840</td>\n",
       "      <td>0.283019</td>\n",
       "      <td>0.593060</td>\n",
       "      <td>0.372014</td>\n",
       "      <td>0.455285</td>\n",
       "      <td>0.970696</td>\n",
       "      <td>0.561341</td>\n",
       "    </tr>\n",
       "    <tr>\n",
       "      <th>1</th>\n",
       "      <td>0.571053</td>\n",
       "      <td>0.205534</td>\n",
       "      <td>0.417112</td>\n",
       "      <td>0.030928</td>\n",
       "      <td>0.326087</td>\n",
       "      <td>0.575862</td>\n",
       "      <td>0.510549</td>\n",
       "      <td>0.245283</td>\n",
       "      <td>0.274448</td>\n",
       "      <td>0.264505</td>\n",
       "      <td>0.463415</td>\n",
       "      <td>0.780220</td>\n",
       "      <td>0.550642</td>\n",
       "    </tr>\n",
       "    <tr>\n",
       "      <th>2</th>\n",
       "      <td>0.560526</td>\n",
       "      <td>0.320158</td>\n",
       "      <td>0.700535</td>\n",
       "      <td>0.412371</td>\n",
       "      <td>0.336957</td>\n",
       "      <td>0.627586</td>\n",
       "      <td>0.611814</td>\n",
       "      <td>0.320755</td>\n",
       "      <td>0.757098</td>\n",
       "      <td>0.375427</td>\n",
       "      <td>0.447154</td>\n",
       "      <td>0.695971</td>\n",
       "      <td>0.646933</td>\n",
       "    </tr>\n",
       "    <tr>\n",
       "      <th>3</th>\n",
       "      <td>0.878947</td>\n",
       "      <td>0.239130</td>\n",
       "      <td>0.609626</td>\n",
       "      <td>0.319588</td>\n",
       "      <td>0.467391</td>\n",
       "      <td>0.989655</td>\n",
       "      <td>0.664557</td>\n",
       "      <td>0.207547</td>\n",
       "      <td>0.558360</td>\n",
       "      <td>0.556314</td>\n",
       "      <td>0.308943</td>\n",
       "      <td>0.798535</td>\n",
       "      <td>0.857347</td>\n",
       "    </tr>\n",
       "    <tr>\n",
       "      <th>4</th>\n",
       "      <td>0.581579</td>\n",
       "      <td>0.365613</td>\n",
       "      <td>0.807487</td>\n",
       "      <td>0.536082</td>\n",
       "      <td>0.521739</td>\n",
       "      <td>0.627586</td>\n",
       "      <td>0.495781</td>\n",
       "      <td>0.490566</td>\n",
       "      <td>0.444795</td>\n",
       "      <td>0.259386</td>\n",
       "      <td>0.455285</td>\n",
       "      <td>0.608059</td>\n",
       "      <td>0.325963</td>\n",
       "    </tr>\n",
       "  </tbody>\n",
       "</table>\n",
       "</div>"
      ],
      "text/plain": [
       "    Alcohol     Malic       Ash  Alcalinity  Magnesium   Phenols  Flavanoids  \\\n",
       "0  0.842105  0.191700  0.572193    0.257732   0.619565  0.627586    0.573840   \n",
       "1  0.571053  0.205534  0.417112    0.030928   0.326087  0.575862    0.510549   \n",
       "2  0.560526  0.320158  0.700535    0.412371   0.336957  0.627586    0.611814   \n",
       "3  0.878947  0.239130  0.609626    0.319588   0.467391  0.989655    0.664557   \n",
       "4  0.581579  0.365613  0.807487    0.536082   0.521739  0.627586    0.495781   \n",
       "\n",
       "   Nonflavanoids  Proanthocyanins     Color       Hue  Dilution   Proline  \n",
       "0       0.283019         0.593060  0.372014  0.455285  0.970696  0.561341  \n",
       "1       0.245283         0.274448  0.264505  0.463415  0.780220  0.550642  \n",
       "2       0.320755         0.757098  0.375427  0.447154  0.695971  0.646933  \n",
       "3       0.207547         0.558360  0.556314  0.308943  0.798535  0.857347  \n",
       "4       0.490566         0.444795  0.259386  0.455285  0.608059  0.325963  "
      ]
     },
     "execution_count": 60,
     "metadata": {},
     "output_type": "execute_result"
    }
   ],
   "source": [
    "df_norm = norm_func(wineh.iloc[:,1:])\n",
    "df_norm.head()"
   ]
  },
  {
   "cell_type": "code",
   "execution_count": 61,
   "metadata": {},
   "outputs": [
    {
     "data": {
      "image/png": "[encoded data removed]",
      "text/plain": [
       "<Figure size 432x288 with 1 Axes>"
      ]
     },
     "metadata": {
      "needs_background": "light"
     },
     "output_type": "display_data"
    }
   ],
   "source": [
    "dendrogram = sch.dendrogram(sch.linkage(df_norm, method='single'))"
   ]
  },
  {
   "cell_type": "code",
   "execution_count": 62,
   "metadata": {},
   "outputs": [
    {
     "data": {
      "image/png": "[encoded data removed]",
      "text/plain": [
       "<Figure size 432x288 with 1 Axes>"
      ]
     },
     "metadata": {
      "needs_background": "light"
     },
     "output_type": "display_data"
    }
   ],
   "source": [
    "dendrogram = sch.dendrogram(sch.linkage(df_norm, method='complete'))"
   ]
  },
  {
   "cell_type": "code",
   "execution_count": 64,
   "metadata": {
    "scrolled": false
   },
   "outputs": [
    {
     "data": {
      "text/html": [
       "<div>\n",
       "<style scoped>\n",
       "    .dataframe tbody tr th:only-of-type {\n",
       "        vertical-align: middle;\n",
       "    }\n",
       "\n",
       "    .dataframe tbody tr th {\n",
       "        vertical-align: top;\n",
       "    }\n",
       "\n",
       "    .dataframe thead th {\n",
       "        text-align: right;\n",
       "    }\n",
       "</style>\n",
       "<table border=\"1\" class=\"dataframe\">\n",
       "  <thead>\n",
       "    <tr style=\"text-align: right;\">\n",
       "      <th></th>\n",
       "      <th>Type</th>\n",
       "      <th>Alcohol</th>\n",
       "      <th>Malic</th>\n",
       "      <th>Ash</th>\n",
       "      <th>Alcalinity</th>\n",
       "      <th>Magnesium</th>\n",
       "      <th>Phenols</th>\n",
       "      <th>Flavanoids</th>\n",
       "      <th>Nonflavanoids</th>\n",
       "      <th>Proanthocyanins</th>\n",
       "      <th>Color</th>\n",
       "      <th>Hue</th>\n",
       "      <th>Dilution</th>\n",
       "      <th>Proline</th>\n",
       "    </tr>\n",
       "  </thead>\n",
       "  <tbody>\n",
       "    <tr>\n",
       "      <th>Type</th>\n",
       "      <td>1.000000</td>\n",
       "      <td>-0.328222</td>\n",
       "      <td>0.437776</td>\n",
       "      <td>-0.049643</td>\n",
       "      <td>0.517859</td>\n",
       "      <td>-0.209179</td>\n",
       "      <td>-0.719163</td>\n",
       "      <td>-0.847498</td>\n",
       "      <td>0.489109</td>\n",
       "      <td>-0.499130</td>\n",
       "      <td>0.265668</td>\n",
       "      <td>-0.617369</td>\n",
       "      <td>-0.788230</td>\n",
       "      <td>-0.633717</td>\n",
       "    </tr>\n",
       "    <tr>\n",
       "      <th>Alcohol</th>\n",
       "      <td>-0.328222</td>\n",
       "      <td>1.000000</td>\n",
       "      <td>0.094397</td>\n",
       "      <td>0.211545</td>\n",
       "      <td>-0.310235</td>\n",
       "      <td>0.270798</td>\n",
       "      <td>0.289101</td>\n",
       "      <td>0.236815</td>\n",
       "      <td>-0.155929</td>\n",
       "      <td>0.136698</td>\n",
       "      <td>0.546364</td>\n",
       "      <td>-0.071747</td>\n",
       "      <td>0.072343</td>\n",
       "      <td>0.643720</td>\n",
       "    </tr>\n",
       "    <tr>\n",
       "      <th>Malic</th>\n",
       "      <td>0.437776</td>\n",
       "      <td>0.094397</td>\n",
       "      <td>1.000000</td>\n",
       "      <td>0.164045</td>\n",
       "      <td>0.288500</td>\n",
       "      <td>-0.054575</td>\n",
       "      <td>-0.335167</td>\n",
       "      <td>-0.411007</td>\n",
       "      <td>0.292977</td>\n",
       "      <td>-0.220746</td>\n",
       "      <td>0.248985</td>\n",
       "      <td>-0.561296</td>\n",
       "      <td>-0.368710</td>\n",
       "      <td>-0.192011</td>\n",
       "    </tr>\n",
       "    <tr>\n",
       "      <th>Ash</th>\n",
       "      <td>-0.049643</td>\n",
       "      <td>0.211545</td>\n",
       "      <td>0.164045</td>\n",
       "      <td>1.000000</td>\n",
       "      <td>0.443367</td>\n",
       "      <td>0.286587</td>\n",
       "      <td>0.128980</td>\n",
       "      <td>0.115077</td>\n",
       "      <td>0.186230</td>\n",
       "      <td>0.009652</td>\n",
       "      <td>0.258887</td>\n",
       "      <td>-0.074667</td>\n",
       "      <td>0.003911</td>\n",
       "      <td>0.223626</td>\n",
       "    </tr>\n",
       "    <tr>\n",
       "      <th>Alcalinity</th>\n",
       "      <td>0.517859</td>\n",
       "      <td>-0.310235</td>\n",
       "      <td>0.288500</td>\n",
       "      <td>0.443367</td>\n",
       "      <td>1.000000</td>\n",
       "      <td>-0.083333</td>\n",
       "      <td>-0.321113</td>\n",
       "      <td>-0.351370</td>\n",
       "      <td>0.361922</td>\n",
       "      <td>-0.197327</td>\n",
       "      <td>0.018732</td>\n",
       "      <td>-0.273955</td>\n",
       "      <td>-0.276769</td>\n",
       "      <td>-0.440597</td>\n",
       "    </tr>\n",
       "    <tr>\n",
       "      <th>Magnesium</th>\n",
       "      <td>-0.209179</td>\n",
       "      <td>0.270798</td>\n",
       "      <td>-0.054575</td>\n",
       "      <td>0.286587</td>\n",
       "      <td>-0.083333</td>\n",
       "      <td>1.000000</td>\n",
       "      <td>0.214401</td>\n",
       "      <td>0.195784</td>\n",
       "      <td>-0.256294</td>\n",
       "      <td>0.236441</td>\n",
       "      <td>0.199950</td>\n",
       "      <td>0.055398</td>\n",
       "      <td>0.066004</td>\n",
       "      <td>0.393351</td>\n",
       "    </tr>\n",
       "    <tr>\n",
       "      <th>Phenols</th>\n",
       "      <td>-0.719163</td>\n",
       "      <td>0.289101</td>\n",
       "      <td>-0.335167</td>\n",
       "      <td>0.128980</td>\n",
       "      <td>-0.321113</td>\n",
       "      <td>0.214401</td>\n",
       "      <td>1.000000</td>\n",
       "      <td>0.864564</td>\n",
       "      <td>-0.449935</td>\n",
       "      <td>0.612413</td>\n",
       "      <td>-0.055136</td>\n",
       "      <td>0.433681</td>\n",
       "      <td>0.699949</td>\n",
       "      <td>0.498115</td>\n",
       "    </tr>\n",
       "    <tr>\n",
       "      <th>Flavanoids</th>\n",
       "      <td>-0.847498</td>\n",
       "      <td>0.236815</td>\n",
       "      <td>-0.411007</td>\n",
       "      <td>0.115077</td>\n",
       "      <td>-0.351370</td>\n",
       "      <td>0.195784</td>\n",
       "      <td>0.864564</td>\n",
       "      <td>1.000000</td>\n",
       "      <td>-0.537900</td>\n",
       "      <td>0.652692</td>\n",
       "      <td>-0.172379</td>\n",
       "      <td>0.543479</td>\n",
       "      <td>0.787194</td>\n",
       "      <td>0.494193</td>\n",
       "    </tr>\n",
       "    <tr>\n",
       "      <th>Nonflavanoids</th>\n",
       "      <td>0.489109</td>\n",
       "      <td>-0.155929</td>\n",
       "      <td>0.292977</td>\n",
       "      <td>0.186230</td>\n",
       "      <td>0.361922</td>\n",
       "      <td>-0.256294</td>\n",
       "      <td>-0.449935</td>\n",
       "      <td>-0.537900</td>\n",
       "      <td>1.000000</td>\n",
       "      <td>-0.365845</td>\n",
       "      <td>0.139057</td>\n",
       "      <td>-0.262640</td>\n",
       "      <td>-0.503270</td>\n",
       "      <td>-0.311385</td>\n",
       "    </tr>\n",
       "    <tr>\n",
       "      <th>Proanthocyanins</th>\n",
       "      <td>-0.499130</td>\n",
       "      <td>0.136698</td>\n",
       "      <td>-0.220746</td>\n",
       "      <td>0.009652</td>\n",
       "      <td>-0.197327</td>\n",
       "      <td>0.236441</td>\n",
       "      <td>0.612413</td>\n",
       "      <td>0.652692</td>\n",
       "      <td>-0.365845</td>\n",
       "      <td>1.000000</td>\n",
       "      <td>-0.025250</td>\n",
       "      <td>0.295544</td>\n",
       "      <td>0.519067</td>\n",
       "      <td>0.330417</td>\n",
       "    </tr>\n",
       "    <tr>\n",
       "      <th>Color</th>\n",
       "      <td>0.265668</td>\n",
       "      <td>0.546364</td>\n",
       "      <td>0.248985</td>\n",
       "      <td>0.258887</td>\n",
       "      <td>0.018732</td>\n",
       "      <td>0.199950</td>\n",
       "      <td>-0.055136</td>\n",
       "      <td>-0.172379</td>\n",
       "      <td>0.139057</td>\n",
       "      <td>-0.025250</td>\n",
       "      <td>1.000000</td>\n",
       "      <td>-0.521813</td>\n",
       "      <td>-0.428815</td>\n",
       "      <td>0.316100</td>\n",
       "    </tr>\n",
       "    <tr>\n",
       "      <th>Hue</th>\n",
       "      <td>-0.617369</td>\n",
       "      <td>-0.071747</td>\n",
       "      <td>-0.561296</td>\n",
       "      <td>-0.074667</td>\n",
       "      <td>-0.273955</td>\n",
       "      <td>0.055398</td>\n",
       "      <td>0.433681</td>\n",
       "      <td>0.543479</td>\n",
       "      <td>-0.262640</td>\n",
       "      <td>0.295544</td>\n",
       "      <td>-0.521813</td>\n",
       "      <td>1.000000</td>\n",
       "      <td>0.565468</td>\n",
       "      <td>0.236183</td>\n",
       "    </tr>\n",
       "    <tr>\n",
       "      <th>Dilution</th>\n",
       "      <td>-0.788230</td>\n",
       "      <td>0.072343</td>\n",
       "      <td>-0.368710</td>\n",
       "      <td>0.003911</td>\n",
       "      <td>-0.276769</td>\n",
       "      <td>0.066004</td>\n",
       "      <td>0.699949</td>\n",
       "      <td>0.787194</td>\n",
       "      <td>-0.503270</td>\n",
       "      <td>0.519067</td>\n",
       "      <td>-0.428815</td>\n",
       "      <td>0.565468</td>\n",
       "      <td>1.000000</td>\n",
       "      <td>0.312761</td>\n",
       "    </tr>\n",
       "    <tr>\n",
       "      <th>Proline</th>\n",
       "      <td>-0.633717</td>\n",
       "      <td>0.643720</td>\n",
       "      <td>-0.192011</td>\n",
       "      <td>0.223626</td>\n",
       "      <td>-0.440597</td>\n",
       "      <td>0.393351</td>\n",
       "      <td>0.498115</td>\n",
       "      <td>0.494193</td>\n",
       "      <td>-0.311385</td>\n",
       "      <td>0.330417</td>\n",
       "      <td>0.316100</td>\n",
       "      <td>0.236183</td>\n",
       "      <td>0.312761</td>\n",
       "      <td>1.000000</td>\n",
       "    </tr>\n",
       "  </tbody>\n",
       "</table>\n",
       "</div>"
      ],
      "text/plain": [
       "                     Type   Alcohol     Malic       Ash  Alcalinity  \\\n",
       "Type             1.000000 -0.328222  0.437776 -0.049643    0.517859   \n",
       "Alcohol         -0.328222  1.000000  0.094397  0.211545   -0.310235   \n",
       "Malic            0.437776  0.094397  1.000000  0.164045    0.288500   \n",
       "Ash             -0.049643  0.211545  0.164045  1.000000    0.443367   \n",
       "Alcalinity       0.517859 -0.310235  0.288500  0.443367    1.000000   \n",
       "Magnesium       -0.209179  0.270798 -0.054575  0.286587   -0.083333   \n",
       "Phenols         -0.719163  0.289101 -0.335167  0.128980   -0.321113   \n",
       "Flavanoids      -0.847498  0.236815 -0.411007  0.115077   -0.351370   \n",
       "Nonflavanoids    0.489109 -0.155929  0.292977  0.186230    0.361922   \n",
       "Proanthocyanins -0.499130  0.136698 -0.220746  0.009652   -0.197327   \n",
       "Color            0.265668  0.546364  0.248985  0.258887    0.018732   \n",
       "Hue             -0.617369 -0.071747 -0.561296 -0.074667   -0.273955   \n",
       "Dilution        -0.788230  0.072343 -0.368710  0.003911   -0.276769   \n",
       "Proline         -0.633717  0.643720 -0.192011  0.223626   -0.440597   \n",
       "\n",
       "                 Magnesium   Phenols  Flavanoids  Nonflavanoids  \\\n",
       "Type             -0.209179 -0.719163   -0.847498       0.489109   \n",
       "Alcohol           0.270798  0.289101    0.236815      -0.155929   \n",
       "Malic            -0.054575 -0.335167   -0.411007       0.292977   \n",
       "Ash               0.286587  0.128980    0.115077       0.186230   \n",
       "Alcalinity       -0.083333 -0.321113   -0.351370       0.361922   \n",
       "Magnesium         1.000000  0.214401    0.195784      -0.256294   \n",
       "Phenols           0.214401  1.000000    0.864564      -0.449935   \n",
       "Flavanoids        0.195784  0.864564    1.000000      -0.537900   \n",
       "Nonflavanoids    -0.256294 -0.449935   -0.537900       1.000000   \n",
       "Proanthocyanins   0.236441  0.612413    0.652692      -0.365845   \n",
       "Color             0.199950 -0.055136   -0.172379       0.139057   \n",
       "Hue               0.055398  0.433681    0.543479      -0.262640   \n",
       "Dilution          0.066004  0.699949    0.787194      -0.503270   \n",
       "Proline           0.393351  0.498115    0.494193      -0.311385   \n",
       "\n",
       "                 Proanthocyanins     Color       Hue  Dilution   Proline  \n",
       "Type                   -0.499130  0.265668 -0.617369 -0.788230 -0.633717  \n",
       "Alcohol                 0.136698  0.546364 -0.071747  0.072343  0.643720  \n",
       "Malic                  -0.220746  0.248985 -0.561296 -0.368710 -0.192011  \n",
       "Ash                     0.009652  0.258887 -0.074667  0.003911  0.223626  \n",
       "Alcalinity             -0.197327  0.018732 -0.273955 -0.276769 -0.440597  \n",
       "Magnesium               0.236441  0.199950  0.055398  0.066004  0.393351  \n",
       "Phenols                 0.612413 -0.055136  0.433681  0.699949  0.498115  \n",
       "Flavanoids              0.652692 -0.172379  0.543479  0.787194  0.494193  \n",
       "Nonflavanoids          -0.365845  0.139057 -0.262640 -0.503270 -0.311385  \n",
       "Proanthocyanins         1.000000 -0.025250  0.295544  0.519067  0.330417  \n",
       "Color                  -0.025250  1.000000 -0.521813 -0.428815  0.316100  \n",
       "Hue                     0.295544 -0.521813  1.000000  0.565468  0.236183  \n",
       "Dilution                0.519067 -0.428815  0.565468  1.000000  0.312761  \n",
       "Proline                 0.330417  0.316100  0.236183  0.312761  1.000000  "
      ]
     },
     "execution_count": 64,
     "metadata": {},
     "output_type": "execute_result"
    }
   ],
   "source": [
    "wineh.corr()"
   ]
  },
  {
   "cell_type": "code",
   "execution_count": 65,
   "metadata": {},
   "outputs": [],
   "source": [
    "hc = AgglomerativeClustering(n_clusters=3, affinity = 'euclidean', linkage = 'complete')"
   ]
  },
  {
   "cell_type": "code",
   "execution_count": 66,
   "metadata": {},
   "outputs": [],
   "source": [
    "y_hc = hc.fit_predict(df_norm)\n",
    "Clusters=pd.DataFrame(y_hc,columns=['Clusters'])"
   ]
  },
  {
   "cell_type": "code",
   "execution_count": 67,
   "metadata": {},
   "outputs": [],
   "source": [
    "df_norm['h_clusterid'] =pd.Series(y_hc)\n",
    "wineh['h_clusterid']=pd.Series(y_hc)"
   ]
  },
  {
   "cell_type": "code",
   "execution_count": 68,
   "metadata": {},
   "outputs": [
    {
     "data": {
      "text/html": [
       "<div>\n",
       "<style scoped>\n",
       "    .dataframe tbody tr th:only-of-type {\n",
       "        vertical-align: middle;\n",
       "    }\n",
       "\n",
       "    .dataframe tbody tr th {\n",
       "        vertical-align: top;\n",
       "    }\n",
       "\n",
       "    .dataframe thead th {\n",
       "        text-align: right;\n",
       "    }\n",
       "</style>\n",
       "<table border=\"1\" class=\"dataframe\">\n",
       "  <thead>\n",
       "    <tr style=\"text-align: right;\">\n",
       "      <th></th>\n",
       "      <th>Type</th>\n",
       "      <th>Alcohol</th>\n",
       "      <th>Malic</th>\n",
       "      <th>Ash</th>\n",
       "      <th>Alcalinity</th>\n",
       "      <th>Magnesium</th>\n",
       "      <th>Phenols</th>\n",
       "      <th>Flavanoids</th>\n",
       "      <th>Nonflavanoids</th>\n",
       "      <th>Proanthocyanins</th>\n",
       "      <th>Color</th>\n",
       "      <th>Hue</th>\n",
       "      <th>Dilution</th>\n",
       "      <th>Proline</th>\n",
       "      <th>h_clusterid</th>\n",
       "    </tr>\n",
       "  </thead>\n",
       "  <tbody>\n",
       "    <tr>\n",
       "      <th>0</th>\n",
       "      <td>1</td>\n",
       "      <td>14.23</td>\n",
       "      <td>1.71</td>\n",
       "      <td>2.43</td>\n",
       "      <td>15.6</td>\n",
       "      <td>127</td>\n",
       "      <td>2.80</td>\n",
       "      <td>3.06</td>\n",
       "      <td>0.28</td>\n",
       "      <td>2.29</td>\n",
       "      <td>5.64</td>\n",
       "      <td>1.04</td>\n",
       "      <td>3.92</td>\n",
       "      <td>1065</td>\n",
       "      <td>1</td>\n",
       "    </tr>\n",
       "    <tr>\n",
       "      <th>1</th>\n",
       "      <td>1</td>\n",
       "      <td>13.20</td>\n",
       "      <td>1.78</td>\n",
       "      <td>2.14</td>\n",
       "      <td>11.2</td>\n",
       "      <td>100</td>\n",
       "      <td>2.65</td>\n",
       "      <td>2.76</td>\n",
       "      <td>0.26</td>\n",
       "      <td>1.28</td>\n",
       "      <td>4.38</td>\n",
       "      <td>1.05</td>\n",
       "      <td>3.40</td>\n",
       "      <td>1050</td>\n",
       "      <td>1</td>\n",
       "    </tr>\n",
       "    <tr>\n",
       "      <th>2</th>\n",
       "      <td>1</td>\n",
       "      <td>13.16</td>\n",
       "      <td>2.36</td>\n",
       "      <td>2.67</td>\n",
       "      <td>18.6</td>\n",
       "      <td>101</td>\n",
       "      <td>2.80</td>\n",
       "      <td>3.24</td>\n",
       "      <td>0.30</td>\n",
       "      <td>2.81</td>\n",
       "      <td>5.68</td>\n",
       "      <td>1.03</td>\n",
       "      <td>3.17</td>\n",
       "      <td>1185</td>\n",
       "      <td>1</td>\n",
       "    </tr>\n",
       "    <tr>\n",
       "      <th>3</th>\n",
       "      <td>1</td>\n",
       "      <td>14.37</td>\n",
       "      <td>1.95</td>\n",
       "      <td>2.50</td>\n",
       "      <td>16.8</td>\n",
       "      <td>113</td>\n",
       "      <td>3.85</td>\n",
       "      <td>3.49</td>\n",
       "      <td>0.24</td>\n",
       "      <td>2.18</td>\n",
       "      <td>7.80</td>\n",
       "      <td>0.86</td>\n",
       "      <td>3.45</td>\n",
       "      <td>1480</td>\n",
       "      <td>1</td>\n",
       "    </tr>\n",
       "    <tr>\n",
       "      <th>4</th>\n",
       "      <td>1</td>\n",
       "      <td>13.24</td>\n",
       "      <td>2.59</td>\n",
       "      <td>2.87</td>\n",
       "      <td>21.0</td>\n",
       "      <td>118</td>\n",
       "      <td>2.80</td>\n",
       "      <td>2.69</td>\n",
       "      <td>0.39</td>\n",
       "      <td>1.82</td>\n",
       "      <td>4.32</td>\n",
       "      <td>1.04</td>\n",
       "      <td>2.93</td>\n",
       "      <td>735</td>\n",
       "      <td>1</td>\n",
       "    </tr>\n",
       "  </tbody>\n",
       "</table>\n",
       "</div>"
      ],
      "text/plain": [
       "   Type  Alcohol  Malic   Ash  Alcalinity  Magnesium  Phenols  Flavanoids  \\\n",
       "0     1    14.23   1.71  2.43        15.6        127     2.80        3.06   \n",
       "1     1    13.20   1.78  2.14        11.2        100     2.65        2.76   \n",
       "2     1    13.16   2.36  2.67        18.6        101     2.80        3.24   \n",
       "3     1    14.37   1.95  2.50        16.8        113     3.85        3.49   \n",
       "4     1    13.24   2.59  2.87        21.0        118     2.80        2.69   \n",
       "\n",
       "   Nonflavanoids  Proanthocyanins  Color   Hue  Dilution  Proline  h_clusterid  \n",
       "0           0.28             2.29   5.64  1.04      3.92     1065            1  \n",
       "1           0.26             1.28   4.38  1.05      3.40     1050            1  \n",
       "2           0.30             2.81   5.68  1.03      3.17     1185            1  \n",
       "3           0.24             2.18   7.80  0.86      3.45     1480            1  \n",
       "4           0.39             1.82   4.32  1.04      2.93      735            1  "
      ]
     },
     "execution_count": 68,
     "metadata": {},
     "output_type": "execute_result"
    }
   ],
   "source": [
    "wineh.head()"
   ]
  },
  {
   "cell_type": "code",
   "execution_count": 70,
   "metadata": {},
   "outputs": [
    {
     "data": {
      "text/plain": [
       "0    73\n",
       "1    62\n",
       "2    43\n",
       "Name: h_clusterid, dtype: int64"
      ]
     },
     "execution_count": 70,
     "metadata": {},
     "output_type": "execute_result"
    }
   ],
   "source": [
    "wineh['h_clusterid'].value_counts()"
   ]
  },
  {
   "cell_type": "markdown",
   "metadata": {},
   "source": [
    "# hierarchical clustering using three components of pca"
   ]
  },
  {
   "cell_type": "code",
   "execution_count": 71,
   "metadata": {},
   "outputs": [
    {
     "data": {
      "text/html": [
       "<div>\n",
       "<style scoped>\n",
       "    .dataframe tbody tr th:only-of-type {\n",
       "        vertical-align: middle;\n",
       "    }\n",
       "\n",
       "    .dataframe tbody tr th {\n",
       "        vertical-align: top;\n",
       "    }\n",
       "\n",
       "    .dataframe thead th {\n",
       "        text-align: right;\n",
       "    }\n",
       "</style>\n",
       "<table border=\"1\" class=\"dataframe\">\n",
       "  <thead>\n",
       "    <tr style=\"text-align: right;\">\n",
       "      <th></th>\n",
       "      <th>0</th>\n",
       "      <th>1</th>\n",
       "      <th>2</th>\n",
       "      <th>clusterid_new</th>\n",
       "      <th>clusterid_new1</th>\n",
       "    </tr>\n",
       "  </thead>\n",
       "  <tbody>\n",
       "    <tr>\n",
       "      <th>0</th>\n",
       "      <td>3.316751</td>\n",
       "      <td>-1.443463</td>\n",
       "      <td>-0.165739</td>\n",
       "      <td>1</td>\n",
       "      <td>1</td>\n",
       "    </tr>\n",
       "    <tr>\n",
       "      <th>1</th>\n",
       "      <td>2.209465</td>\n",
       "      <td>0.333393</td>\n",
       "      <td>-2.026457</td>\n",
       "      <td>1</td>\n",
       "      <td>1</td>\n",
       "    </tr>\n",
       "    <tr>\n",
       "      <th>2</th>\n",
       "      <td>2.516740</td>\n",
       "      <td>-1.031151</td>\n",
       "      <td>0.982819</td>\n",
       "      <td>1</td>\n",
       "      <td>1</td>\n",
       "    </tr>\n",
       "    <tr>\n",
       "      <th>3</th>\n",
       "      <td>3.757066</td>\n",
       "      <td>-2.756372</td>\n",
       "      <td>-0.176192</td>\n",
       "      <td>1</td>\n",
       "      <td>1</td>\n",
       "    </tr>\n",
       "    <tr>\n",
       "      <th>4</th>\n",
       "      <td>1.008908</td>\n",
       "      <td>-0.869831</td>\n",
       "      <td>2.026688</td>\n",
       "      <td>1</td>\n",
       "      <td>1</td>\n",
       "    </tr>\n",
       "  </tbody>\n",
       "</table>\n",
       "</div>"
      ],
      "text/plain": [
       "          0         1         2  clusterid_new  clusterid_new1\n",
       "0  3.316751 -1.443463 -0.165739              1               1\n",
       "1  2.209465  0.333393 -2.026457              1               1\n",
       "2  2.516740 -1.031151  0.982819              1               1\n",
       "3  3.757066 -2.756372 -0.176192              1               1\n",
       "4  1.008908 -0.869831  2.026688              1               1"
      ]
     },
     "execution_count": 71,
     "metadata": {},
     "output_type": "execute_result"
    }
   ],
   "source": [
    "Wine_pca.head()"
   ]
  },
  {
   "cell_type": "code",
   "execution_count": 72,
   "metadata": {},
   "outputs": [],
   "source": [
    "wineh_pca=pd.DataFrame(pca_values)"
   ]
  },
  {
   "cell_type": "code",
   "execution_count": 73,
   "metadata": {},
   "outputs": [
    {
     "data": {
      "text/html": [
       "<div>\n",
       "<style scoped>\n",
       "    .dataframe tbody tr th:only-of-type {\n",
       "        vertical-align: middle;\n",
       "    }\n",
       "\n",
       "    .dataframe tbody tr th {\n",
       "        vertical-align: top;\n",
       "    }\n",
       "\n",
       "    .dataframe thead th {\n",
       "        text-align: right;\n",
       "    }\n",
       "</style>\n",
       "<table border=\"1\" class=\"dataframe\">\n",
       "  <thead>\n",
       "    <tr style=\"text-align: right;\">\n",
       "      <th></th>\n",
       "      <th>0</th>\n",
       "      <th>1</th>\n",
       "      <th>2</th>\n",
       "    </tr>\n",
       "  </thead>\n",
       "  <tbody>\n",
       "    <tr>\n",
       "      <th>0</th>\n",
       "      <td>3.316751</td>\n",
       "      <td>-1.443463</td>\n",
       "      <td>-0.165739</td>\n",
       "    </tr>\n",
       "    <tr>\n",
       "      <th>1</th>\n",
       "      <td>2.209465</td>\n",
       "      <td>0.333393</td>\n",
       "      <td>-2.026457</td>\n",
       "    </tr>\n",
       "    <tr>\n",
       "      <th>2</th>\n",
       "      <td>2.516740</td>\n",
       "      <td>-1.031151</td>\n",
       "      <td>0.982819</td>\n",
       "    </tr>\n",
       "    <tr>\n",
       "      <th>3</th>\n",
       "      <td>3.757066</td>\n",
       "      <td>-2.756372</td>\n",
       "      <td>-0.176192</td>\n",
       "    </tr>\n",
       "    <tr>\n",
       "      <th>4</th>\n",
       "      <td>1.008908</td>\n",
       "      <td>-0.869831</td>\n",
       "      <td>2.026688</td>\n",
       "    </tr>\n",
       "  </tbody>\n",
       "</table>\n",
       "</div>"
      ],
      "text/plain": [
       "          0         1         2\n",
       "0  3.316751 -1.443463 -0.165739\n",
       "1  2.209465  0.333393 -2.026457\n",
       "2  2.516740 -1.031151  0.982819\n",
       "3  3.757066 -2.756372 -0.176192\n",
       "4  1.008908 -0.869831  2.026688"
      ]
     },
     "execution_count": 73,
     "metadata": {},
     "output_type": "execute_result"
    }
   ],
   "source": [
    "wineh_pca.head()"
   ]
  },
  {
   "cell_type": "code",
   "execution_count": 75,
   "metadata": {},
   "outputs": [
    {
     "data": {
      "text/html": [
       "<div>\n",
       "<style scoped>\n",
       "    .dataframe tbody tr th:only-of-type {\n",
       "        vertical-align: middle;\n",
       "    }\n",
       "\n",
       "    .dataframe tbody tr th {\n",
       "        vertical-align: top;\n",
       "    }\n",
       "\n",
       "    .dataframe thead th {\n",
       "        text-align: right;\n",
       "    }\n",
       "</style>\n",
       "<table border=\"1\" class=\"dataframe\">\n",
       "  <thead>\n",
       "    <tr style=\"text-align: right;\">\n",
       "      <th></th>\n",
       "      <th>1</th>\n",
       "      <th>2</th>\n",
       "    </tr>\n",
       "  </thead>\n",
       "  <tbody>\n",
       "    <tr>\n",
       "      <th>0</th>\n",
       "      <td>0.280447</td>\n",
       "      <td>0.445028</td>\n",
       "    </tr>\n",
       "    <tr>\n",
       "      <th>1</th>\n",
       "      <td>0.520989</td>\n",
       "      <td>0.257653</td>\n",
       "    </tr>\n",
       "    <tr>\n",
       "      <th>2</th>\n",
       "      <td>0.336264</td>\n",
       "      <td>0.560688</td>\n",
       "    </tr>\n",
       "    <tr>\n",
       "      <th>3</th>\n",
       "      <td>0.102712</td>\n",
       "      <td>0.443975</td>\n",
       "    </tr>\n",
       "    <tr>\n",
       "      <th>4</th>\n",
       "      <td>0.358103</td>\n",
       "      <td>0.665806</td>\n",
       "    </tr>\n",
       "  </tbody>\n",
       "</table>\n",
       "</div>"
      ],
      "text/plain": [
       "          1         2\n",
       "0  0.280447  0.445028\n",
       "1  0.520989  0.257653\n",
       "2  0.336264  0.560688\n",
       "3  0.102712  0.443975\n",
       "4  0.358103  0.665806"
      ]
     },
     "execution_count": 75,
     "metadata": {},
     "output_type": "execute_result"
    }
   ],
   "source": [
    "df_norm2 = norm_func(wineh_pca.iloc[:,1:])\n",
    "df_norm2.head()"
   ]
  },
  {
   "cell_type": "code",
   "execution_count": 76,
   "metadata": {},
   "outputs": [
    {
     "data": {
      "image/png": "[encoded data removed]",
      "text/plain": [
       "<Figure size 432x288 with 1 Axes>"
      ]
     },
     "metadata": {
      "needs_background": "light"
     },
     "output_type": "display_data"
    }
   ],
   "source": [
    "dendrogram = sch.dendrogram(sch.linkage(df_norm2, method='single'))"
   ]
  },
  {
   "cell_type": "code",
   "execution_count": 77,
   "metadata": {},
   "outputs": [
    {
     "data": {
      "image/png": "[encoded data removed]",
      "text/plain": [
       "<Figure size 432x288 with 1 Axes>"
      ]
     },
     "metadata": {
      "needs_background": "light"
     },
     "output_type": "display_data"
    }
   ],
   "source": [
    "dendrogram = sch.dendrogram(sch.linkage(df_norm2, method='complete'))"
   ]
  },
  {
   "cell_type": "code",
   "execution_count": 78,
   "metadata": {},
   "outputs": [],
   "source": [
    "hc2 = AgglomerativeClustering(n_clusters=3, affinity = 'euclidean', linkage = 'complete')"
   ]
  },
  {
   "cell_type": "code",
   "execution_count": 79,
   "metadata": {},
   "outputs": [],
   "source": [
    "y_hc2 = hc2.fit_predict(df_norm2)\n",
    "Clusters2=pd.DataFrame(y_hc2,columns=['Clusters2'])"
   ]
  },
  {
   "cell_type": "code",
   "execution_count": 80,
   "metadata": {},
   "outputs": [],
   "source": [
    "df_norm2['h_clusterid2'] =pd.Series(y_hc2)\n",
    "wineh['h_clusterid2']=pd.Series(y_hc2)"
   ]
  },
  {
   "cell_type": "code",
   "execution_count": 81,
   "metadata": {},
   "outputs": [
    {
     "data": {
      "text/plain": [
       "1    107\n",
       "0     66\n",
       "2      5\n",
       "Name: h_clusterid2, dtype: int64"
      ]
     },
     "execution_count": 81,
     "metadata": {},
     "output_type": "execute_result"
    }
   ],
   "source": [
    "wineh['h_clusterid2'].value_counts()"
   ]
  },
  {
   "cell_type": "markdown",
   "metadata": {},
   "source": [
    "# From clustering with PCA and without PCA we can see many similarities"
   ]
  },
  {
   "cell_type": "markdown",
   "metadata": {},
   "source": [
    "# In hierarchical clustering with pca and without may differ but in k means clustering its moreover same .Hierarchical clustering may not suitable for larger data."
   ]
  }
 ],
 "metadata": {
  "kernelspec": {
   "display_name": "Python 3",
   "language": "python",
   "name": "python3"
  },
  "language_info": {
   "codemirror_mode": {
    "name": "ipython",
    "version": 3
   },
   "file_extension": ".py",
   "mimetype": "text/x-python",
   "name": "python",
   "nbconvert_exporter": "python",
   "pygments_lexer": "ipython3",
   "version": "3.8.3"
  }
 },
 "nbformat": 4,
 "nbformat_minor": 4
}
